{
 "cells": [
  {
   "cell_type": "markdown",
   "metadata": {},
   "source": [
    "## Economy\n",
    "\n",
    "There is a representative consumer/worker and a representative firm in an economy. \n",
    "\n",
    "- The consumer \n",
    "  - is endowed with one unit of time that can be used on either working to make money for consumption ($c$) or enjoying as leisure ($l$). \n",
    "  - owns the firm, hence she receives the firm's profits in the form of dividend. \n",
    "  - utility function is given by $ U(c, l) = c^{1/3} l^{2/3}$. \n",
    "- The firm \n",
    "  - produces output using a production function: $Y=A\\sqrt{N}$ where $Y$ and $N$ denote output and labor input respectively. \n",
    "  - sells output in the market at the unit price, i.e., $P=1$. \n",
    "- All markets are perfectly competitive so that the consumer and the firm acts as if they are price takers. The wage is determined to clear the labor market.\n",
    "\n",
    "- Given the market wage $w$, the consumer's problem can be written as: \n",
    "  $$ \\max_{c, l} U(c,l) = c^{1/3} l^{2/3},  \\text{ s.t. } c = w(1-l) + \\pi $$\n",
    "\n",
    "- Given the market wage $w$, the firm's problem can be written as: \n",
    "  $$ \\max_{N} \\pi = A\\sqrt{N} - wN $$\n",
    "\n",
    "Below we will solve for the general equilibrium of the economy. \n",
    "- As you may see from the structure of the economy above, the only parameter that characterize the economy is the TFP ($A$) in the production function. \n",
    "- The key variable that you have to solve for the general equilibrium is the wage $w^*$ that clears the labor market. \n",
    "- Once we solve for $w^*$, all other variables can be solved using the value of $w^*$. Keep these in mind!"
   ]
  },
  {
   "cell_type": "markdown",
   "metadata": {},
   "source": [
    "## Q1. Consumer's utility maximization problem\n",
    "\n",
    "- Assuming the interior solutions, write down the optimal consumption ($c^*$) and leisure ($l^*$) as functions of $w$ and $\\pi$ from the first order conditions for the consumer's utility maximization problem.\n",
    "- Write down the labor supply ($N^s$) as a function of $w$ and $\\pi$.\n",
    "- For the above two questions, write down your answers on a piece of paper, take a photo of it with your cellphone and then put the image file here. You should also attach the original image file when you submit your homework on LearUs."
   ]
  },
  {
   "cell_type": "markdown",
   "metadata": {},
   "source": [
    "Include your image file here.\n",
    "<img src=\"CoEx7_2018121022_박진효_q1.jpg\">"
   ]
  },
  {
   "cell_type": "markdown",
   "metadata": {},
   "source": [
    "## Q2. Firm's profit maxmization problem\n",
    "\n",
    "- Write down the optimal labor demand ($N^d$) as a function of $w$.\n",
    "- Write down the maximized profits ($\\pi$) as a function of $w$.\n",
    "- For the above two questions, write down your answers on a piece of paper, take a photo of it with your cellphone and then put the image file here. You should also attach the original image file when you submit your homework on LearUs."
   ]
  },
  {
   "cell_type": "markdown",
   "metadata": {},
   "source": [
    "Include your image file here.\n",
    "<img src=\"CoEx7_2018121022_박진효_q2.jpg\">"
   ]
  },
  {
   "cell_type": "markdown",
   "metadata": {},
   "source": [
    "## Q3. Define the class for the economy\n",
    "\n",
    "Now you are ready to define the class for the above economy. Name the class `GeneralEquilibrium`. Write the Python codes for the class `GeneralEquilibrium`, which should contain the following functions.\n",
    "\n",
    "- class constructor\n",
    "- optimal_consumption: you solved in Q1.\n",
    "- optimal_leisure: you solved in Q1.\n",
    "- labor_supply: you solved in Q1.\n",
    "- labor_demand: you solved in Q2.\n",
    "- profit: you solved in Q2.\n",
    "- market_clear: the function that states the labor market clearing condition. Remember that you want to find the equilibrium market wage when this market cleaaring condition holds."
   ]
  },
  {
   "cell_type": "markdown",
   "metadata": {},
   "source": [
    "You will need the following imports."
   ]
  },
  {
   "cell_type": "code",
   "execution_count": 115,
   "metadata": {},
   "outputs": [],
   "source": [
    "import numpy as np\n",
    "import matplotlib.pyplot as plt\n",
    "from scipy.optimize import root_scalar\n",
    "\n",
    "%matplotlib inline"
   ]
  },
  {
   "cell_type": "code",
   "execution_count": 116,
   "metadata": {},
   "outputs": [],
   "source": [
    "# your code here\n",
    "class GeneralEquilibrium:\n",
    "    \"\"\"\n",
    "    Defines the class for finding the general equilibrium\n",
    "    \"\"\"\n",
    "    def __init__(self, w, a):\n",
    "        \"Initialize wage and TFP\"\n",
    "        self.w = w     # w: wage\n",
    "        self.a = a     # a: TFP\n",
    "    \n",
    "    def optimal_consumption(self):\n",
    "        \"Compute the optimal consumption\"\n",
    "        consumption_opt = (self.w+self.profit())/3\n",
    "        # corner solution\n",
    "        if self.optimal_leisure()>1:\n",
    "            consumption_opt = self.profit()\n",
    "        return consumption_opt\n",
    "    \n",
    "    def optimal_leisure(self):\n",
    "        \"Compute the optimal leisure\"\n",
    "        leisure_opt = 2/3+2*self.profit()/(3*self.w)\n",
    "        # corner solution\n",
    "        if leisure_opt>1:\n",
    "            leisure_opt = 1\n",
    "        return leisure_opt\n",
    "        \n",
    "    def labor_supply(self):\n",
    "        \"Compute the labor supply\"\n",
    "        labor_supply = 1/3-2*self.profit()/(3*self.w)\n",
    "        # corner solution\n",
    "        if self.optimal_leisure()>1:\n",
    "            labor_supply = 0\n",
    "        return labor_supply\n",
    "        \n",
    "    def labor_demand(self):\n",
    "        \"Compute the labor demand\"\n",
    "        labor_demand = (self.a)**2/(4*(self.w)**2)\n",
    "        return labor_demand\n",
    "    \n",
    "    def profit(self):\n",
    "        \"Compute the profit\"\n",
    "        profit = (self.a)**2/(4*self.w)\n",
    "        return profit\n",
    "    \n",
    "    def market_clear(self):\n",
    "        \"Compute the labor market clearing condition\"\n",
    "        labor_market_clear = self.labor_supply() - self.labor_demand()\n",
    "        return labor_market_clear"
   ]
  },
  {
   "cell_type": "markdown",
   "metadata": {},
   "source": [
    "## Q4. Find the general equilibrium\n",
    "\n",
    "Write the Python codes for the following.\n",
    "\n",
    "- Set $A=4$ and create an instance of the class that you difined above.\n",
    "- Compute the equilibrium wage ($w^*$) using the `brentq` method that you learned in the lecture for `Scipy`.\n",
    "- Using the value of $w^*$, compute the following variables in the general equilibrium.\n",
    "  - labor input ($N^*$)\n",
    "  - profit ($\\pi^*$)\n",
    "  - consumption ($c^*$)\n",
    "  - leisure ($l^*$)\n",
    "  - output ($Y^*$)\n"
   ]
  },
  {
   "cell_type": "code",
   "execution_count": 117,
   "metadata": {},
   "outputs": [
    {
     "name": "stdout",
     "output_type": "stream",
     "text": [
      "Equilibrium wage (w*): 4.47213595499958\n",
      "Labor supply: 0.19999999999999998\n",
      "Profit: 0.8944271909999159\n",
      "Optimal consumption: 1.7888543819998317\n",
      "Optimal leisure: 0.7999999999999999\n",
      "Output: 1.7888543819998317\n"
     ]
    }
   ],
   "source": [
    "# your code here\n",
    "\n",
    "# Set A=4\n",
    "a = 4\n",
    "\n",
    "# Compute the equilibrium wage (w*) using the brentq method: wage_lower(0.01), wage_upper(20)\n",
    "w_star_q4 = root_scalar(lambda x,a: GeneralEquilibrium(w=x,a=a).market_clear(), bracket=[0.01,20], args=(a,), method='brentq').root\n",
    "print(\"Equilibrium wage (w*):\", w_star_q4)\n",
    "\n",
    "# Create an instance of the class GeneralEquilibrium according to the above A and w*\n",
    "ge_instance = GeneralEquilibrium(w=w_star_q4, a=4)\n",
    "\n",
    "# Compute labor input\n",
    "n_star = ge_instance.labor_supply()\n",
    "print(\"Labor supply:\", n_star)\n",
    "\n",
    "# Compute profit\n",
    "profit_star = ge_instance.profit()\n",
    "print(\"Profit:\", profit_star)\n",
    "\n",
    "# Compute optimal consumption\n",
    "c_star = ge_instance.optimal_consumption()\n",
    "print(\"Optimal consumption:\", c_star)\n",
    "\n",
    "# Compute optimal leisure\n",
    "l_star = ge_instance.optimal_leisure()\n",
    "print(\"Optimal leisure:\", l_star)\n",
    "\n",
    "# Compute output: y = A * (N)^0.5\n",
    "output_star = a * (n_star**0.5)\n",
    "print(\"Output:\", output_star)"
   ]
  },
  {
   "cell_type": "markdown",
   "metadata": {},
   "source": [
    "## Q5. Analytic solution for the market clearing wage\n",
    "\n",
    "- Solve for the market clearing wage ($w^*$) by equating the labor supply and labor demand functions that you derived in Q1 and Q2. \n",
    "- Write down your answer on a piece of paper, take a photo of it with your cellphone and then put the image file here. You should also attach the original image file when you submit your homework on LearUs.\n",
    "- Compare the numerically solved market clearing wage from Q4 and the analytic solution just above. "
   ]
  },
  {
   "cell_type": "markdown",
   "metadata": {},
   "source": [
    "Include your image file here.\n",
    "<img src=\"CoEx7_2018121022_박진효_q3.jpg\">"
   ]
  },
  {
   "cell_type": "code",
   "execution_count": 118,
   "metadata": {},
   "outputs": [
    {
     "data": {
      "text/plain": [
       "True"
      ]
     },
     "execution_count": 118,
     "metadata": {},
     "output_type": "execute_result"
    }
   ],
   "source": [
    "# your code here\n",
    "\n",
    "# Compare the numerically solved market clearing wage from Q4 and the analytic solution: w_star_q4 vs w_star_q5\n",
    "w_star_q5 = 2 * (5**0.5)\n",
    "w_star_q4 == w_star_q5"
   ]
  },
  {
   "cell_type": "markdown",
   "metadata": {},
   "source": [
    "## Q6. Comparative statics\n",
    "\n",
    "Compute the following variables in the general equilibrium as the TFP varies over the range $[2,10]$ and plot the results.\n",
    "- market wage\n",
    "- labor input\n",
    "- profit\n",
    "- consumption"
   ]
  },
  {
   "cell_type": "code",
   "execution_count": 119,
   "metadata": {
    "scrolled": false
   },
   "outputs": [
    {
     "data": {
      "image/png": "[encoded data removed]",
      "text/plain": [
       "<Figure size 864x576 with 1 Axes>"
      ]
     },
     "metadata": {
      "needs_background": "light"
     },
     "output_type": "display_data"
    }
   ],
   "source": [
    "# your code here\n",
    "\n",
    "# Define the range of TFP values\n",
    "a_values = np.linspace(2, 10, 100)\n",
    "\n",
    "# Initialize lists to store the results\n",
    "wage_list = []\n",
    "labor_input_list = []\n",
    "profit_list = []\n",
    "consumption_list = []\n",
    "\n",
    "# Compute the variables for each TFP value\n",
    "for a in a_values:\n",
    "    # Find the equilibrium wage\n",
    "    w_star = root_scalar(lambda x,a: GeneralEquilibrium(w=x,a=a).market_clear(), bracket=[0.01,20], args=(a,), method='brentq').root\n",
    "\n",
    "    # Create an instance of GeneralEquilibrium with the equilibrium wage\n",
    "    ge_instance = GeneralEquilibrium(w=w_star, a=a)\n",
    "\n",
    "    # Compute the variables\n",
    "    n_star = ge_instance.labor_supply()\n",
    "    profit_star = ge_instance.profit()\n",
    "    c_star = ge_instance.optimal_consumption()\n",
    "\n",
    "    # Store the computed values in lists\n",
    "    wage_list.append(w_star)\n",
    "    labor_input_list.append(n_star)\n",
    "    profit_list.append(profit_star)\n",
    "    consumption_list.append(c_star)\n",
    "\n",
    "# Plot the results\n",
    "plt.figure(figsize=(12, 8))\n",
    "plt.plot(a_values, wage_list, label='Market Wage')\n",
    "plt.plot(a_values, labor_input_list, label='Labor Input')\n",
    "plt.plot(a_values, profit_list, label='Profit')\n",
    "plt.plot(a_values, consumption_list, label='Consumption')\n",
    "\n",
    "plt.xlabel('TFP')\n",
    "plt.ylabel('Values')\n",
    "plt.title('General Equilibrium Variables')\n",
    "plt.legend()\n",
    "\n",
    "plt.show()"
   ]
  },
  {
   "cell_type": "code",
   "execution_count": null,
   "metadata": {},
   "outputs": [],
   "source": []
  }
 ],
 "metadata": {
  "kernelspec": {
   "display_name": "Python 3 (ipykernel)",
   "language": "python",
   "name": "python3"
  },
  "language_info": {
   "codemirror_mode": {
    "name": "ipython",
    "version": 3
   },
   "file_extension": ".py",
   "mimetype": "text/x-python",
   "name": "python",
   "nbconvert_exporter": "python",
   "pygments_lexer": "ipython3",
   "version": "3.9.12"
  },
  "vscode": {
   "interpreter": {
    "hash": "39af2ca0895277c44512c921bb7f88f8dc25be0442cca964837d7637ba0b2326"
   }
  }
 },
 "nbformat": 4,
 "nbformat_minor": 2
}
