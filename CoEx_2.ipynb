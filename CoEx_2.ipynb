{
 "cells": [
  {
   "attachments": {},
   "cell_type": "markdown",
   "metadata": {},
   "source": [
    "## Q1. Prime Numbers\n",
    "\n",
    "A prime number (or a prime) is a natural number greater than 1 that is not a product of two smaller natural numbers. Below are the examples of prime numbers between 1 and 1,000. \n",
    "\n",
    "2, 3, 5, 7, 11, 13, 17, 19, 23, 29, 31, 37, 41, 43, 47, 53, 59, 61, 67, 71, 73, 79, 83, 89, 97, 101, 103, 107, 109, 113, 127, 131, 137, 139, 149, 151, 157, 163, 167, 173, 179, 181, 191, 193, 197, 199, 211, 223, 227, 229, 233, 239, 241, 251, 257, 263, 269, 271, 277, 281, 283, 293, 307, 311, 313, 317, 331, 337, 347, 349, 353, 359, 367, 373, 379, 383, 389, 397, 401, 409, 419, 421, 431, 433, 439, 443, 449, 457, 461, 463, 467, 479, 487, 491, 499, 503, 509, 521, 523, 541, 547, 557, 563, 569, 571, 577, 587, 593, 599, 601, 607, 613, 617, 619, 631, 641, 643, 647, 653, 659, 661, 673, 677, 683, 691, 701, 709, 719, 727, 733, 739, 743, 751, 757, 761, 769, 773, 787, 797, 809, 811, 821, 823, 827, 829, 839, 853, 857, 859, 863, 877, 881, 883, 887, 907, 911, 919, 929, 937, 941, 947, 953, 967, 971, 977, 983, 991, 997."
   ]
  },
  {
   "attachments": {},
   "cell_type": "markdown",
   "metadata": {},
   "source": [
    "1. Using the definition of prime numbers, write a function to determine whether a number is prime. \n",
    "- function name: `whether_prime`\n",
    "- raise an error if the number is smaller than or equal to 1. \n",
    "- retrun `True` if the number is prime, `False` otherwise. \n",
    "- check with some arbitrary numbers whether your function works as intended."
   ]
  },
  {
   "cell_type": "code",
   "execution_count": 1,
   "metadata": {},
   "outputs": [],
   "source": [
    "# your code here\n",
    "\n"
   ]
  },
  {
   "attachments": {},
   "cell_type": "markdown",
   "metadata": {},
   "source": [
    "2. Write a function to find all prime numbers betweeen two numbers (x and y). \n",
    "- function name: `find_primes`\n",
    "- check if both numbers (x and y) are greater thatn 1. Otherwise raise an error. \n",
    "- you may use the function `whether_prime` that you wrote above\n"
   ]
  },
  {
   "cell_type": "code",
   "execution_count": 2,
   "metadata": {},
   "outputs": [],
   "source": [
    "# your code here\n"
   ]
  },
  {
   "attachments": {},
   "cell_type": "markdown",
   "metadata": {},
   "source": [
    "3. Using the function `find_primes` that you wrote above, do the followings:\n",
    "- find all prime numbers between 1,000 and 1,100.\n",
    "- calculate the sum of all prime numbers between 1,500 and 2,000.\n",
    "- count the number of primes between 2,000 and 3,000.\n",
    "- calculate the difference between the largest and smallest prime numbers between 3,000 and 8,000."
   ]
  },
  {
   "cell_type": "code",
   "execution_count": 3,
   "metadata": {},
   "outputs": [],
   "source": [
    "# your code here\n"
   ]
  },
  {
   "attachments": {},
   "cell_type": "markdown",
   "metadata": {},
   "source": [
    "4. Uisng the function `whether_prime` that you wrote above, write another function to find the x_th prime number after y.\n",
    "- function name: `x_prime_y`\n",
    "- takes two input arguments (x, y).\n",
    "- returns the prime number that appears x_th after y."
   ]
  },
  {
   "cell_type": "code",
   "execution_count": 4,
   "metadata": {},
   "outputs": [],
   "source": [
    "# your code here\n",
    "\n"
   ]
  },
  {
   "attachments": {},
   "cell_type": "markdown",
   "metadata": {},
   "source": [
    "5. Using the function `x_prime_y` that you wrote above, do the following:\n",
    "- find the 100th prime number after 500.\n",
    "- create a list that contains 20 prime numbers that appear after 200. For this, you'd better use `list comprehension`."
   ]
  },
  {
   "cell_type": "code",
   "execution_count": 5,
   "metadata": {},
   "outputs": [],
   "source": [
    "# your code here\n",
    "\n"
   ]
  },
  {
   "attachments": {},
   "cell_type": "markdown",
   "metadata": {},
   "source": [
    "## Q2. Euler's Number\n",
    "\n",
    "The Euler's number, $e$, can be calculated as the sum of the infinite series: $$e = \\dfrac{1}{0!} + \\dfrac{1}{1!} + \\dfrac{1}{2!} + \\dfrac{1}{3!} + \\cdots = \\sum_{n=0}^{\\infty } \\dfrac {1}{n!}$$\n"
   ]
  },
  {
   "attachments": {},
   "cell_type": "markdown",
   "metadata": {},
   "source": [
    "1. Write a function to calculate $e$ for a number $n \\ge 2$.\n",
    "- function name: `Euler_Series`\n",
    "- you have to write a function to calculate the `factorial` of a number. "
   ]
  },
  {
   "cell_type": "code",
   "execution_count": 6,
   "metadata": {},
   "outputs": [],
   "source": [
    "# your code here\n"
   ]
  },
  {
   "attachments": {},
   "cell_type": "markdown",
   "metadata": {},
   "source": [
    "2. Using the function that you wrote above, compute the Euler's number with $n=10$."
   ]
  },
  {
   "cell_type": "code",
   "execution_count": 7,
   "metadata": {},
   "outputs": [],
   "source": [
    "# your code here\n"
   ]
  },
  {
   "attachments": {},
   "cell_type": "markdown",
   "metadata": {},
   "source": [
    "3. Write a code to find the number $n^*$ such that `Euler_Series(n*) - Euler_Series(n*-1) < 1e-10`. What is $n^*$? What is the Euler's number with $n^*$?"
   ]
  },
  {
   "cell_type": "code",
   "execution_count": 8,
   "metadata": {},
   "outputs": [],
   "source": [
    "# your code here\n",
    "\n"
   ]
  },
  {
   "attachments": {},
   "cell_type": "markdown",
   "metadata": {},
   "source": [
    "## Q3. Optimal Choice of Consumption and Leisure\n",
    "\n",
    "Consider a consumer who is endowed with one unit of time. The consumer should work to make money for consumption. Assume that the price is consumption is equal to 1 and the market wage is also equal to 1. The utility function is given $u(c, l) = \\log{c} + \\log{l}$ where $c$ denotes consumption and $l$ leisure. The consumer wants to maximize utility."
   ]
  },
  {
   "attachments": {},
   "cell_type": "markdown",
   "metadata": {},
   "source": [
    "1. You must have learned how to solve this utility maximization problem of the consumer. \n",
    "- Write down the budget constriant for the consumer.\n",
    "- Write down the optimality condition for the choice of consumption and leisure.\n",
    "- Solve for the optimal consumption ($c^*$) and leisure ($l^*$). \n",
    "- You may write down your answers on a piece of paper, take a photo of it with your cellphone and then put the image file here."
   ]
  },
  {
   "attachments": {},
   "cell_type": "markdown",
   "metadata": {},
   "source": [
    "**write here a price of markdown code to inclue an image file.**\n"
   ]
  },
  {
   "attachments": {},
   "cell_type": "markdown",
   "metadata": {},
   "source": [
    "2. Write down a function to find `approximately` the optimal combination of consumptiona and leisure.\n",
    "- function name: `find_opt`\n",
    "- the utility initially increases as leisure up to some point, then decrease after on.\n",
    "- the algorithm to find the optimal consumption and leisure is as follows:\n",
    "  - starting from the lowest possible level of leisure, increase leisure by the small fixed amount.\n",
    "  - compute the correspoding consumption using the budget constraint, then compute the utility level.\n",
    "  - find the optimal level of leisure that maximize utility by comparing two contiguous levels of leisure.\n",
    "- Notice that the optimal combination of consumption and leisure depends on the market wage.\n"
   ]
  },
  {
   "cell_type": "code",
   "execution_count": 9,
   "metadata": {},
   "outputs": [],
   "source": [
    "# need math library to use log() and -inf\n",
    "import math\n",
    "\n",
    "# your code here\n",
    "\n"
   ]
  },
  {
   "attachments": {},
   "cell_type": "markdown",
   "metadata": {},
   "source": [
    "3. Find the optimal combination of consumption and leisure whem the market wage is equal to one."
   ]
  },
  {
   "cell_type": "code",
   "execution_count": 10,
   "metadata": {},
   "outputs": [],
   "source": [
    "# your code here\n",
    "\n"
   ]
  },
  {
   "attachments": {},
   "cell_type": "markdown",
   "metadata": {},
   "source": [
    "4. Create a list that contains tuples of the optimal consumption and leisure as the market wage grows from 1 to 2 by 0.05. Use `list comprehension` for this."
   ]
  },
  {
   "cell_type": "code",
   "execution_count": 11,
   "metadata": {},
   "outputs": [],
   "source": [
    "# your code here\n"
   ]
  },
  {
   "cell_type": "code",
   "execution_count": null,
   "metadata": {},
   "outputs": [],
   "source": []
  }
 ],
 "metadata": {
  "kernelspec": {
   "display_name": "base",
   "language": "python",
   "name": "python3"
  },
  "language_info": {
   "codemirror_mode": {
    "name": "ipython",
    "version": 3
   },
   "file_extension": ".py",
   "mimetype": "text/x-python",
   "name": "python",
   "nbconvert_exporter": "python",
   "pygments_lexer": "ipython3",
   "version": "3.9.12"
  },
  "orig_nbformat": 4
 },
 "nbformat": 4,
 "nbformat_minor": 2
}
