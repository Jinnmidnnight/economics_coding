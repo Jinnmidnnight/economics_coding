{
 "cells": [
  {
   "cell_type": "markdown",
   "metadata": {},
   "source": [
    "## Q1. Prime Numbers\n",
    "\n",
    "A prime number (or a prime) is a natural number greater than 1 that is not a product of two smaller natural numbers. Below are the examples of prime numbers between 1 and 1,000. \n",
    "\n",
    "2, 3, 5, 7, 11, 13, 17, 19, 23, 29, 31, 37, 41, 43, 47, 53, 59, 61, 67, 71, 73, 79, 83, 89, 97, 101, 103, 107, 109, 113, 127, 131, 137, 139, 149, 151, 157, 163, 167, 173, 179, 181, 191, 193, 197, 199, 211, 223, 227, 229, 233, 239, 241, 251, 257, 263, 269, 271, 277, 281, 283, 293, 307, 311, 313, 317, 331, 337, 347, 349, 353, 359, 367, 373, 379, 383, 389, 397, 401, 409, 419, 421, 431, 433, 439, 443, 449, 457, 461, 463, 467, 479, 487, 491, 499, 503, 509, 521, 523, 541, 547, 557, 563, 569, 571, 577, 587, 593, 599, 601, 607, 613, 617, 619, 631, 641, 643, 647, 653, 659, 661, 673, 677, 683, 691, 701, 709, 719, 727, 733, 739, 743, 751, 757, 761, 769, 773, 787, 797, 809, 811, 821, 823, 827, 829, 839, 853, 857, 859, 863, 877, 881, 883, 887, 907, 911, 919, 929, 937, 941, 947, 953, 967, 971, 977, 983, 991, 997."
   ]
  },
  {
   "cell_type": "markdown",
   "metadata": {},
   "source": [
    "1. Using the definition of prime numbers, write a function to determine whether a number is prime. \n",
    "- function name: `whether_prime`\n",
    "- raise an error if the number is smaller than or equal to 1. \n",
    "- retrun `True` if the number is prime, `False` otherwise. \n",
    "- check with some arbitrary numbers whether your function works as intended."
   ]
  },
  {
   "cell_type": "code",
   "execution_count": 1,
   "metadata": {},
   "outputs": [
    {
     "data": {
      "text/plain": [
       "True"
      ]
     },
     "execution_count": 1,
     "metadata": {},
     "output_type": "execute_result"
    }
   ],
   "source": [
    "# your code here\n",
    "def whether_prime(n):\n",
    "    if n <= 1:\n",
    "        raise ValueError(\"Input number must be greater than 1.\")\n",
    "        \n",
    "    for i in range(2, n):\n",
    "        if n % i == 0:\n",
    "            return False\n",
    "    return True\n",
    "\n",
    "whether_prime(947)"
   ]
  },
  {
   "cell_type": "markdown",
   "metadata": {},
   "source": [
    "2. Write a function to find all prime numbers betweeen two numbers (x and y). \n",
    "- function name: `find_primes`\n",
    "- check if both numbers (x and y) are greater thatn 1. Otherwise raise an error. \n",
    "- you may use the function `whether_prime` that you wrote above\n"
   ]
  },
  {
   "cell_type": "code",
   "execution_count": 2,
   "metadata": {},
   "outputs": [
    {
     "data": {
      "text/plain": [
       "[809, 811, 821, 823, 827, 829, 839, 853, 857, 859, 863, 877, 881, 883, 887]"
      ]
     },
     "execution_count": 2,
     "metadata": {},
     "output_type": "execute_result"
    }
   ],
   "source": [
    "# your code here\n",
    "def find_primes(x, y):\n",
    "    if x <= 1 or y <= 1:\n",
    "        raise ValueError(\"Both input numbers must be greater than 1.\")\n",
    "    \n",
    "    primes = []\n",
    "    if x <= y:   \n",
    "        for num in range(x+1, y):\n",
    "            if whether_prime(num):\n",
    "                primes.append(num)\n",
    "    else:\n",
    "        for num in range(y+1, x):\n",
    "            if whether_prime(num):\n",
    "                primes.append(num)\n",
    "    return primes\n",
    "\n",
    "find_primes(800,900)"
   ]
  },
  {
   "cell_type": "markdown",
   "metadata": {},
   "source": [
    "3. Using the function `find_primes` that you wrote above, do the followings:\n",
    "- find all prime numbers between 1,000 and 1,100.\n",
    "- calculate the sum of all prime numbers between 1,500 and 2,000.\n",
    "- count the number of primes between 2,000 and 3,000.\n",
    "- calculate the difference between the largest and smallest prime numbers between 3,000 and 8,000."
   ]
  },
  {
   "cell_type": "code",
   "execution_count": 3,
   "metadata": {},
   "outputs": [
    {
     "name": "stdout",
     "output_type": "stream",
     "text": [
      "[1009, 1013, 1019, 1021, 1031, 1033, 1039, 1049, 1051, 1061, 1063, 1069, 1087, 1091, 1093, 1097]\n",
      "112010\n",
      "127\n",
      "4992\n"
     ]
    }
   ],
   "source": [
    "# your code here\n",
    "\n",
    "# find all prime numbers between 1,000 and 1,100.\n",
    "print(find_primes(1000,1100))\n",
    "\n",
    "# calculate the sum of all prime numbers between 1,500 and 2,000.\n",
    "print(sum(find_primes(1500,2000)))\n",
    "\n",
    "# count the number of primes between 2,000 and 3,000.\n",
    "print(len(find_primes(2000,3000)))\n",
    "\n",
    "# calculate the difference between the largest and smallest prime numbers between 3,000 and 8,000.\n",
    "print(max(find_primes(3000,8000))-min(find_primes(3000,8000)))"
   ]
  },
  {
   "cell_type": "markdown",
   "metadata": {},
   "source": [
    "4. Uisng the function `whether_prime` that you wrote above, write another function to find the x_th prime number after y.\n",
    "- function name: `x_prime_y`\n",
    "- takes two input arguments (x, y).\n",
    "- returns the prime number that appears x_th after y."
   ]
  },
  {
   "cell_type": "code",
   "execution_count": 4,
   "metadata": {},
   "outputs": [
    {
     "data": {
      "text/plain": [
       "13"
      ]
     },
     "execution_count": 4,
     "metadata": {},
     "output_type": "execute_result"
    }
   ],
   "source": [
    "# your code here\n",
    "def x_prime_y(x, y):\n",
    "    count = 0\n",
    "    num = y+1\n",
    "    while True:\n",
    "        if whether_prime(num):\n",
    "            count += 1\n",
    "            if count == x:\n",
    "                return num\n",
    "        num += 1\n",
    "\n",
    "x_prime_y(3,5)"
   ]
  },
  {
   "cell_type": "markdown",
   "metadata": {},
   "source": [
    "5. Using the function `x_prime_y` that you wrote above, do the following:\n",
    "- find the 100th prime number after 500.\n",
    "- create a list that contains 20 prime numbers that appear after 200. For this, you'd better use `list comprehension`."
   ]
  },
  {
   "cell_type": "code",
   "execution_count": 5,
   "metadata": {},
   "outputs": [
    {
     "name": "stdout",
     "output_type": "stream",
     "text": [
      "1187\n",
      "[211, 223, 227, 229, 233, 239, 241, 251, 257, 263, 269, 271, 277, 281, 283, 293, 307, 311, 313, 317]\n"
     ]
    }
   ],
   "source": [
    "# your code here\n",
    "\n",
    "# find the 100th prime number after 500.\n",
    "print(x_prime_y(100,500))\n",
    "\n",
    "# create a list that contains 20 prime numbers that appear after 200\n",
    "print([x_prime_y(i, 200) for i in range(1, 21)])"
   ]
  },
  {
   "cell_type": "markdown",
   "metadata": {},
   "source": [
    "## Q2. Euler's Number\n",
    "\n",
    "The Euler's number, $e$, can be calculated as the sum of the infinite series: $$e = \\dfrac{1}{0!} + \\dfrac{1}{1!} + \\dfrac{1}{2!} + \\dfrac{1}{3!} + \\cdots = \\sum_{n=0}^{\\infty } \\dfrac {1}{n!}$$\n"
   ]
  },
  {
   "cell_type": "markdown",
   "metadata": {},
   "source": [
    "1. Write a function to calculate $e$ for a number $n \\ge 2$.\n",
    "- function name: `Euler_Series`\n",
    "- you have to write a function to calculate the `factorial` of a number. "
   ]
  },
  {
   "cell_type": "code",
   "execution_count": 6,
   "metadata": {},
   "outputs": [
    {
     "data": {
      "text/plain": [
       "2.5"
      ]
     },
     "execution_count": 6,
     "metadata": {},
     "output_type": "execute_result"
    }
   ],
   "source": [
    "# your code here\n",
    "\n",
    "# you have to write a function to calculate the factorial of a number.\n",
    "def factorial(n):\n",
    "    return n * factorial(n-1) if n > 1 else 1\n",
    "\n",
    "# function name: Euler_Series\n",
    "def Euler_Series(n):\n",
    "    euler_num = 0\n",
    "    for i in range(n+1):\n",
    "        euler_num += 1/factorial(i)\n",
    "    return euler_num\n",
    "\n",
    "Euler_Series(2)"
   ]
  },
  {
   "cell_type": "markdown",
   "metadata": {},
   "source": [
    "2. Using the function that you wrote above, compute the Euler's number with $n=10$."
   ]
  },
  {
   "cell_type": "code",
   "execution_count": 7,
   "metadata": {},
   "outputs": [
    {
     "data": {
      "text/plain": [
       "2.7182818011463845"
      ]
     },
     "execution_count": 7,
     "metadata": {},
     "output_type": "execute_result"
    }
   ],
   "source": [
    "# your code here\n",
    "Euler_Series(10)"
   ]
  },
  {
   "cell_type": "markdown",
   "metadata": {},
   "source": [
    "3. Write a code to find the number $n^*$ such that `Euler_Series(n*) - Euler_Series(n*-1) < 1e-10`. What is $n^*$? What is the Euler's number with $n^*$?"
   ]
  },
  {
   "cell_type": "code",
   "execution_count": 13,
   "metadata": {},
   "outputs": [
    {
     "name": "stdout",
     "output_type": "stream",
     "text": [
      "14 2.71828182845823\n"
     ]
    }
   ],
   "source": [
    "# your code here\n",
    "n_star = 2\n",
    "while True:\n",
    "    if Euler_Series(n_star) - Euler_Series(n_star-1) < 1e-10:\n",
    "        print(n_star, Euler_Series(n_star))\n",
    "        break\n",
    "    n_star += 1"
   ]
  },
  {
   "cell_type": "markdown",
   "metadata": {},
   "source": [
    "## Q3. Optimal Choice of Consumption and Leisure\n",
    "\n",
    "Consider a consumer who is endowed with one unit of time. The consumer should work to make money for consumption. Assume that the price is consumption is equal to 1 and the market wage is also equal to 1. The utility function is given $u(c, l) = \\log{c} + \\log{l}$ where $c$ denotes consumption and $l$ leisure. The consumer wants to maximize utility."
   ]
  },
  {
   "cell_type": "markdown",
   "metadata": {},
   "source": [
    "1. You must have learned how to solve this utility maximization problem of the consumer. \n",
    "- Write down the budget constriant for the consumer.\n",
    "- Write down the optimality condition for the choice of consumption and leisure.\n",
    "- Solve for the optimal consumption ($c^*$) and leisure ($l^*$). \n",
    "- You may write down your answers on a piece of paper, take a photo of it with your cellphone and then put the image file here."
   ]
  },
  {
   "attachments": {},
   "cell_type": "markdown",
   "metadata": {},
   "source": [
    "**write here a price of markdown code to inclue an image file.**\n",
    "<img src=\"CoEx2_2018121022_박진효.jpg\">"
   ]
  },
  {
   "cell_type": "markdown",
   "metadata": {},
   "source": [
    "2. Write down a function to find `approximately` the optimal combination of consumptiona and leisure.\n",
    "- function name: `find_opt`\n",
    "- the utility initially increases as leisure up to some point, then decrease after on.\n",
    "- the algorithm to find the optimal consumption and leisure is as follows:\n",
    "  - starting from the lowest possible level of leisure, increase leisure by the small fixed amount.\n",
    "  - compute the correspoding consumption using the budget constraint, then compute the utility level.\n",
    "  - find the optimal level of leisure that maximize utility by comparing two contiguous levels of leisure.\n",
    "- Notice that the optimal combination of consumption and leisure depends on the market wage.\n"
   ]
  },
  {
   "cell_type": "code",
   "execution_count": 93,
   "metadata": {},
   "outputs": [],
   "source": [
    "# need math library to use log() and -inf\n",
    "import math\n",
    "\n",
    "#your code here\n",
    "def find_opt(wage):\n",
    "    # consumer who is endowed with one unit of time\n",
    "    # price of consumption is equal to 1\n",
    "    time, price = 1, 1\n",
    "    \n",
    "    # start from the lowest possible level of leisure\n",
    "    leisure = 0\n",
    "    utility = -math.inf\n",
    "    \n",
    "    # the small fixed amount for increasing leisure\n",
    "    delta_leisure = 0.001\n",
    "    \n",
    "    # Loop through possible levels of leisure\n",
    "    while leisure <= 1:\n",
    "        # the correspoding consumption using the budget constraint\n",
    "        consumption = (wage / price) * (time - leisure)\n",
    "        # compute the utility level\n",
    "        if (leisure == 0 or consumption == 0):\n",
    "            new_utility = -math.inf\n",
    "        else:\n",
    "            new_utility = math.log(leisure) + math.log(consumption)\n",
    "        \n",
    "        # compare two contiguous levels of leisure\n",
    "        if (new_utility > utility):\n",
    "            utility = new_utility\n",
    "            leisure_opt = leisure\n",
    "            consumption_opt = consumption\n",
    "        \n",
    "        # increase leisure\n",
    "        leisure += delta_leisure\n",
    "    \n",
    "    # the optimal combination of consumption and leisure\n",
    "    return (consumption_opt, leisure_opt)"
   ]
  },
  {
   "cell_type": "markdown",
   "metadata": {},
   "source": [
    "3. Find the optimal combination of consumption and leisure whem the market wage is equal to one."
   ]
  },
  {
   "cell_type": "code",
   "execution_count": 94,
   "metadata": {},
   "outputs": [
    {
     "data": {
      "text/plain": [
       "(0.49999999999999967, 0.5000000000000003)"
      ]
     },
     "execution_count": 94,
     "metadata": {},
     "output_type": "execute_result"
    }
   ],
   "source": [
    "# your code here\n",
    "find_opt(1)"
   ]
  },
  {
   "cell_type": "markdown",
   "metadata": {},
   "source": [
    "4. Create a list that contains tuples of the optimal consumption and leisure as the market wage grows from 1 to 2 by 0.05. Use `list comprehension` for this."
   ]
  },
  {
   "cell_type": "code",
   "execution_count": 95,
   "metadata": {},
   "outputs": [
    {
     "data": {
      "text/plain": [
       "[(0.49999999999999967, 0.5000000000000003),\n",
       " (0.5249999999999997, 0.5000000000000003),\n",
       " (0.5499999999999997, 0.5000000000000003),\n",
       " (0.5749999999999996, 0.5000000000000003),\n",
       " (0.5999999999999995, 0.5000000000000003),\n",
       " (0.6249999999999996, 0.5000000000000003),\n",
       " (0.6499999999999996, 0.5000000000000003),\n",
       " (0.6749999999999996, 0.5000000000000003),\n",
       " (0.6999999999999995, 0.5000000000000003),\n",
       " (0.7249999999999995, 0.5000000000000003),\n",
       " (0.7499999999999996, 0.5000000000000003),\n",
       " (0.7749999999999995, 0.5000000000000003),\n",
       " (0.7999999999999995, 0.5000000000000003),\n",
       " (0.8249999999999994, 0.5000000000000003),\n",
       " (0.8499999999999995, 0.5000000000000003),\n",
       " (0.8749999999999994, 0.5000000000000003),\n",
       " (0.8999999999999995, 0.5000000000000003),\n",
       " (0.9249999999999994, 0.5000000000000003),\n",
       " (0.9499999999999993, 0.5000000000000003),\n",
       " (0.9749999999999994, 0.5000000000000003),\n",
       " (0.9999999999999993, 0.5000000000000003)]"
      ]
     },
     "execution_count": 95,
     "metadata": {},
     "output_type": "execute_result"
    }
   ],
   "source": [
    "# your code here\n",
    "list_opt = [find_opt(1+0.05*i) for i in range(0,21)]\n",
    "list_opt"
   ]
  },
  {
   "cell_type": "code",
   "execution_count": null,
   "metadata": {},
   "outputs": [],
   "source": []
  }
 ],
 "metadata": {
  "kernelspec": {
   "display_name": "Python 3 (ipykernel)",
   "language": "python",
   "name": "python3"
  },
  "language_info": {
   "codemirror_mode": {
    "name": "ipython",
    "version": 3
   },
   "file_extension": ".py",
   "mimetype": "text/x-python",
   "name": "python",
   "nbconvert_exporter": "python",
   "pygments_lexer": "ipython3",
   "version": "3.9.12"
  }
 },
 "nbformat": 4,
 "nbformat_minor": 2
}
