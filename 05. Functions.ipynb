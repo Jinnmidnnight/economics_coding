{
 "cells": [
  {
   "cell_type": "markdown",
   "metadata": {},
   "source": [
    "# Functions"
   ]
  },
  {
   "cell_type": "markdown",
   "metadata": {},
   "source": [
    "A function is a collection of statements that can be used by calling it. \n",
    "- A function takes one or more inputs, performs some operations, and often returns outputs. \n",
    "- Key benifits of functions include:\n",
    "    - Re-usability: write a function to do a specific task just once, and reuse it any time\n",
    "    - Organization: keep the code for distinct operations separated and organized.\n",
    "    - Sharing/collaboration: well-written function can be used across multiple projects or shared with collaborators.\n",
    "- Python provides many *built-in* functions such as `max`, `print`, `len`, etc.\n",
    "- Users can define their own functions according to their needs.\n"
   ]
  },
  {
   "cell_type": "markdown",
   "metadata": {},
   "source": [
    "##  Built-in functions\n",
    "\n",
    "There are many useful functions are provided as part of Python language system. Users may just call them according to their purposes without further efforts. Helps are also provided to figure out how-to-use built-in functions."
   ]
  },
  {
   "cell_type": "code",
   "execution_count": 1,
   "metadata": {},
   "outputs": [
    {
     "data": {
      "text/plain": [
       "4"
      ]
     },
     "execution_count": 1,
     "metadata": {},
     "output_type": "execute_result"
    }
   ],
   "source": [
    "# get the largest number\n",
    "\n",
    "max(2, 3, 4)"
   ]
  },
  {
   "cell_type": "code",
   "execution_count": 2,
   "metadata": {},
   "outputs": [
    {
     "data": {
      "text/plain": [
       "2"
      ]
     },
     "execution_count": 2,
     "metadata": {},
     "output_type": "execute_result"
    }
   ],
   "source": [
    "# get the smallest number\n",
    "\n",
    "min(2,3,4)"
   ]
  },
  {
   "cell_type": "code",
   "execution_count": 3,
   "metadata": {},
   "outputs": [
    {
     "name": "stdout",
     "output_type": "stream",
     "text": [
      "4\n",
      "Economics\n"
     ]
    }
   ],
   "source": [
    "# display the contents of a variable\n",
    "\n",
    "x = 4\n",
    "y = \"Economics\"\n",
    "\n",
    "print(x)\n",
    "print(y)"
   ]
  },
  {
   "cell_type": "code",
   "execution_count": 4,
   "metadata": {},
   "outputs": [],
   "source": [
    "?print"
   ]
  },
  {
   "cell_type": "markdown",
   "metadata": {},
   "source": [
    "You have already seen many built-in functions in previous lectures such as `list()`, `bool()`, `int()`, `float()`, `range()`, etc. You may find all built-in functions and how to use them by refering to https://docs.python.org/3/library/functions.html"
   ]
  },
  {
   "cell_type": "markdown",
   "metadata": {},
   "source": [
    "## User-defined function"
   ]
  },
  {
   "cell_type": "code",
   "execution_count": 5,
   "metadata": {},
   "outputs": [
    {
     "name": "stdout",
     "output_type": "stream",
     "text": [
      "3\n"
     ]
    }
   ],
   "source": [
    "# calculate the absolute value of a number.\n",
    "\n",
    "x = -3\n",
    "\n",
    "if x >= 0:\n",
    "    abs_x = x\n",
    "else:\n",
    "    abs_x = -x\n",
    "\n",
    "print(abs_x)"
   ]
  },
  {
   "cell_type": "markdown",
   "metadata": {},
   "source": [
    "Suppose that you have to get the absolute values of numbers many times during your project. It would be desirable if you create a function that contains the above code block in it so that you can call it whenever you want to calculate the absolute value of a number. The basic syntax to create your own function is as follows:\n",
    "```\n",
    "def function_name(inputs):\n",
    "    code block (function body)\n",
    "    return outputs\n",
    "```\n",
    "- `def`: keyword to define a new function\n",
    "- `inputs` (also called arguments): variable to receive values to be used by the code block within the function\n",
    "- `code block`: a collection of statements to conduct a certain task\n",
    "- `outputs`: results computed by the code block and to be returned\n",
    "- `return`: keyword to return the output of a function and the control from the function to the calling routine\n",
    "\n",
    "Note \n",
    "- the *indentation* for the code block.\n",
    "- `inputs` and `return` can be ommitted.\n",
    "- You may call the function by its name with arguments withing parentheses `( )`."
   ]
  },
  {
   "cell_type": "code",
   "execution_count": 6,
   "metadata": {},
   "outputs": [],
   "source": [
    "# a function to calculate the absolute value of a number\n",
    "\n",
    "def user_abs(x):\n",
    "\n",
    "    if x >= 0:\n",
    "        abs_x = x\n",
    "    else:\n",
    "        abs_x = -x\n",
    "  \n",
    "    return abs_x"
   ]
  },
  {
   "cell_type": "code",
   "execution_count": 7,
   "metadata": {},
   "outputs": [
    {
     "data": {
      "text/plain": [
       "4.5"
      ]
     },
     "execution_count": 7,
     "metadata": {},
     "output_type": "execute_result"
    }
   ],
   "source": [
    "# call the function\n",
    "\n",
    "user_abs(4.5)"
   ]
  },
  {
   "cell_type": "markdown",
   "metadata": {},
   "source": [
    "Remark: There is a built-in function `abs()` in Python. You'd better use it if needed. The above example was only for educational purpose!"
   ]
  },
  {
   "cell_type": "markdown",
   "metadata": {},
   "source": [
    "### Cobb-Douglas production function\n",
    "\n",
    "The production function is the technological relationship that shows how much output can be produced when given amount of capital and labor are used in production.\n",
    "\n",
    "Mathematically, it maps a set of pairs of two positive numbers (captial and labor) into a set of positive real numbers (output). \n",
    "\n",
    "One of the widely employed production functions is the Cobb-Douglas:\n",
    "\n",
    "$$ Y = K^\\alpha L^{1-\\alpha},$$\n",
    "\n",
    "where $Y$ is output, $K$ is capital input, $L$ is labor input, $\\alpha$ is the share of capital out of output.\n",
    "\n",
    "Given this production function, the marginal productivities of capital and labor are as below:\n",
    "\n",
    "$$\n",
    "\\begin{align}\n",
    "MP_K &= \\alpha K^{\\alpha-1} L^{1-\\alpha}\n",
    "\\\\\n",
    "MP_L &= (1-\\alpha) K^{\\alpha} L^{1\\alpha}\n",
    "\\end{align}\n",
    "$$\n",
    "\n",
    "Below we define the Cobb-Douglas production that takes capital ($K$), labor ($L$) and one parameter ($\\alpha$) and that returns output ($Y$), marginal productivity of labor ($MP_L$) and marginal productivity of capital ($MP_K$)."
   ]
  },
  {
   "cell_type": "code",
   "execution_count": 8,
   "metadata": {},
   "outputs": [],
   "source": [
    "# define the cobb-douglass production function\n",
    "\n",
    "def Cobb_Douglas(K, L, alpha):\n",
    "\n",
    "    prod = K**alpha * L**(1-alpha)\n",
    "    mpl = (1-alpha) * K**alpha * L**(-alpha)\n",
    "    mpk = alpha * K**(alpha-1) * L**(1-alpha)\n",
    "\n",
    "    return prod, mpl, mpk"
   ]
  },
  {
   "cell_type": "code",
   "execution_count": 9,
   "metadata": {},
   "outputs": [
    {
     "name": "stdout",
     "output_type": "stream",
     "text": [
      "production =  0.46, mpl =  0.99, mpk =  0.17\n"
     ]
    }
   ],
   "source": [
    "# call the cobb-douglass production function\n",
    "\n",
    "capital = 1.0\n",
    "labor = 0.3\n",
    "share = 0.36\n",
    "\n",
    "prod, mpl, mpk = Cobb_Douglas(capital, labor, share)\n",
    "print(f\"production = {prod:5.2f}, mpl = {mpl:5.2f}, mpk = {mpk:5.2f}\")"
   ]
  },
  {
   "cell_type": "markdown",
   "metadata": {},
   "source": [
    "### Scope of variables: local vs global\n",
    "\n",
    "**Scope** refers to the region within the code where a particular variable is visible. Every function defines a scope within Python. \n",
    "- Variables defined in this scope are called *local variables*. \n",
    "- Variables that are available everywhere are called *global variables*. \n",
    "- Scope rules allow you to use the same variable names in different functions without sharing values from one to the other.\n",
    "  * `prod`, `mpl` and `mpk` are used both within and outside of the function, but their scopes are different."
   ]
  },
  {
   "cell_type": "code",
   "execution_count": 10,
   "metadata": {},
   "outputs": [
    {
     "data": {
      "text/plain": [
       "1.0"
      ]
     },
     "execution_count": 10,
     "metadata": {},
     "output_type": "execute_result"
    }
   ],
   "source": [
    "# global variables can be access here\n",
    "\n",
    "capital"
   ]
  },
  {
   "cell_type": "code",
   "execution_count": 12,
   "metadata": {},
   "outputs": [],
   "source": [
    "# local variables can not be access here\n",
    "\n",
    "#K"
   ]
  },
  {
   "cell_type": "markdown",
   "metadata": {},
   "source": [
    "### Keyword arguments\n",
    "\n",
    "In the above example with the Cobb-Douglas production function, when calling a function, the values for the function arguments are transferred to the matching variables in order. This is called *positional* arguments. Call function often gets confusing and is prone to errors if the function has many arguments. \n",
    "\n",
    "- To avoid such confusion, you may call a function with the names of arguments, which are called *keyword* arguments.\n",
    "- The default values for keyword arguments may be supplied in the definition of a function. \n",
    "- You omit the default values when calling the function, in this sense the keyword arguments are often called *optional* arguments.\n",
    "- You can also split function invocation into multiple lines for better clarity of your codes."
   ]
  },
  {
   "cell_type": "code",
   "execution_count": 13,
   "metadata": {},
   "outputs": [],
   "source": [
    "# re-define the cobb-douglass production function with keyword arguments and their default values\n",
    "\n",
    "def Cobb_Douglas(K, L=0.3, alpha=0.36):\n",
    "\n",
    "    prod = K**alpha * L**(1-alpha)\n",
    "    mpl = (1-alpha) * K**alpha * L**(-alpha)\n",
    "    mpk = alpha * K**(alpha-1) * L**(1-alpha)\n",
    "\n",
    "    return prod, mpl, mpk"
   ]
  },
  {
   "cell_type": "code",
   "execution_count": 14,
   "metadata": {},
   "outputs": [
    {
     "data": {
      "text/plain": [
       "(0.46276190798787015, 0.9872254037074564, 0.16659428687563324)"
      ]
     },
     "execution_count": 14,
     "metadata": {},
     "output_type": "execute_result"
    }
   ],
   "source": [
    "# call the function with keyworkd argument K: using the default values of L and alpha\n",
    "\n",
    "Cobb_Douglas(K=1.0)\n"
   ]
  },
  {
   "cell_type": "code",
   "execution_count": 15,
   "metadata": {},
   "outputs": [
    {
     "data": {
      "text/plain": [
       "(0.46276190798787015, 0.9872254037074564, 0.16659428687563324)"
      ]
     },
     "execution_count": 15,
     "metadata": {},
     "output_type": "execute_result"
    }
   ],
   "source": [
    "# call the function with positional argument: again using the default values of L and alpha\n",
    "\n",
    "Cobb_Douglas(1.0)\n"
   ]
  },
  {
   "cell_type": "code",
   "execution_count": 16,
   "metadata": {},
   "outputs": [
    {
     "data": {
      "text/plain": [
       "(0.5563119569633437, 0.8900991311413499, 0.20027230450680372)"
      ]
     },
     "execution_count": 16,
     "metadata": {},
     "output_type": "execute_result"
    }
   ],
   "source": [
    "# call the function with keyworkd arguments (K,L): \n",
    "# change the value for L from its default value but use the default value for alpha\n",
    "\n",
    "Cobb_Douglas(K=1.0, L=0.4)"
   ]
  },
  {
   "cell_type": "code",
   "execution_count": 18,
   "metadata": {},
   "outputs": [
    {
     "name": "stdout",
     "output_type": "stream",
     "text": [
      "production =  0.50, mpl =  0.95, mpk =  0.18\n"
     ]
    }
   ],
   "source": [
    "# function call can be splitted into multiple lines\n",
    "\n",
    "prod, mpl, mpk = Cobb_Douglas(K = 1, \n",
    "                              L = 1/3, \n",
    "                              alpha = 3.6e-1)\n",
    "print(f\"production = {prod:5.2f}, mpl = {mpl:5.2f}, mpk = {mpk:5.2f}\")"
   ]
  },
  {
   "cell_type": "markdown",
   "metadata": {},
   "source": [
    "### One-line function"
   ]
  },
  {
   "cell_type": "markdown",
   "metadata": {},
   "source": [
    "If the task of a function is simple and can be shortened in one statement, the function can be defined on line line with the `lambda` keyword instead of following the basic syntax above. "
   ]
  },
  {
   "cell_type": "code",
   "execution_count": 19,
   "metadata": {},
   "outputs": [],
   "source": [
    "# define a function to calculate the mean of several numbers\n",
    "\n",
    "def mean(num_list):\n",
    "\n",
    "    total = sum(num_list)\n",
    "    N = len(num_list)\n",
    "    average = total /N \n",
    "\n",
    "    return average"
   ]
  },
  {
   "cell_type": "code",
   "execution_count": 20,
   "metadata": {},
   "outputs": [
    {
     "data": {
      "text/plain": [
       "2.5"
      ]
     },
     "execution_count": 20,
     "metadata": {},
     "output_type": "execute_result"
    }
   ],
   "source": [
    "# call the function mean()\n",
    "\n",
    "x = [1, 2, 3, 4]\n",
    "mean(x)"
   ]
  },
  {
   "cell_type": "code",
   "execution_count": 21,
   "metadata": {},
   "outputs": [],
   "source": [
    "# define the mean function with lambda\n",
    "\n",
    "mean_lambda = lambda x: sum(x)/len(x)"
   ]
  },
  {
   "cell_type": "code",
   "execution_count": 22,
   "metadata": {},
   "outputs": [
    {
     "name": "stdout",
     "output_type": "stream",
     "text": [
      "average of numbers in (2.3, 3, 2, 5.5, 7) is 3.960\n"
     ]
    }
   ],
   "source": [
    "# call mean_lambda function\n",
    "\n",
    "y = (2.3, 3,2, 5.5, 7)\n",
    "print(f\"average of numbers in {y} is {mean_lambda(y):5.3f}\")"
   ]
  },
  {
   "cell_type": "markdown",
   "metadata": {},
   "source": [
    "### Recursive function\n",
    "\n",
    "A *recursive* function is a function that calls itself. Recall the calculation of $n!$ in the previous lecture. We can write a function that does the same task as follows."
   ]
  },
  {
   "cell_type": "code",
   "execution_count": 23,
   "metadata": {},
   "outputs": [
    {
     "name": "stdout",
     "output_type": "stream",
     "text": [
      "The factorial of 10 is: 3628800\n"
     ]
    }
   ],
   "source": [
    "# for loop with a range()\n",
    "\n",
    "n = 10\n",
    "factorial = 1\n",
    "\n",
    "for i in range(n, 1, -1):\n",
    "  factorial *= i\n",
    "\n",
    "print(f'The factorial of {n} is: {factorial}')"
   ]
  },
  {
   "cell_type": "code",
   "execution_count": 24,
   "metadata": {},
   "outputs": [
    {
     "data": {
      "text/plain": [
       "3628800"
      ]
     },
     "execution_count": 24,
     "metadata": {},
     "output_type": "execute_result"
    }
   ],
   "source": [
    "# define a function with for loop\n",
    "\n",
    "def factorial(n):\n",
    "\n",
    "    answer = 1\n",
    "    for i in range(n, 1, -1):\n",
    "        answer *= i\n",
    "\n",
    "    return answer\n",
    "\n",
    "factorial(10)"
   ]
  },
  {
   "cell_type": "code",
   "execution_count": 25,
   "metadata": {},
   "outputs": [],
   "source": [
    "# define a function to calculate n! using recursion\n",
    "\n",
    "def recursive_factorial(n):\n",
    "\n",
    "    \"\"\"\n",
    "    This function calcualtes the factorial of a number using recursion\n",
    "    \"\"\"\n",
    "\n",
    "    if n == 1:\n",
    "        return n\n",
    "    else:\n",
    "        return n * recursive_factorial(n-1)"
   ]
  },
  {
   "cell_type": "code",
   "execution_count": 26,
   "metadata": {},
   "outputs": [
    {
     "data": {
      "text/plain": [
       "3628800"
      ]
     },
     "execution_count": 26,
     "metadata": {},
     "output_type": "execute_result"
    }
   ],
   "source": [
    "recursive_factorial(10)"
   ]
  },
  {
   "cell_type": "code",
   "execution_count": 30,
   "metadata": {},
   "outputs": [],
   "source": [
    "# simplified recursive factorial function\n",
    "\n",
    "def recursive_factorial_simplified(n):\n",
    "    return n * recursive_factorial_simplified(n-1) if n != 1 else n\n"
   ]
  },
  {
   "cell_type": "code",
   "execution_count": 31,
   "metadata": {},
   "outputs": [
    {
     "data": {
      "text/plain": [
       "3628800"
      ]
     },
     "execution_count": 31,
     "metadata": {},
     "output_type": "execute_result"
    }
   ],
   "source": [
    "recursive_factorial_simplified(10)"
   ]
  },
  {
   "cell_type": "code",
   "execution_count": 32,
   "metadata": {},
   "outputs": [],
   "source": [
    "# even simpler definition with lambda\n",
    "\n",
    "f = lambda n: n * f(n-1) if n != 1 else n"
   ]
  },
  {
   "cell_type": "code",
   "execution_count": 33,
   "metadata": {},
   "outputs": [
    {
     "data": {
      "text/plain": [
       "3628800"
      ]
     },
     "execution_count": 33,
     "metadata": {},
     "output_type": "execute_result"
    }
   ],
   "source": [
    "f(10)"
   ]
  },
  {
   "cell_type": "code",
   "execution_count": 34,
   "metadata": {},
   "outputs": [],
   "source": [
    "# help on a user-defined function\n",
    "\n",
    "?recursive_factorial"
   ]
  },
  {
   "cell_type": "code",
   "execution_count": 35,
   "metadata": {},
   "outputs": [],
   "source": [
    "# more help on a user-defined function with code body\n",
    "\n",
    "??recursive_factorial"
   ]
  },
  {
   "cell_type": "markdown",
   "metadata": {},
   "source": [
    "## Modules and external libraries\n",
    "\n",
    "Python provides many functions that perform commonly used tasks as part of the [Python Standard Library](https://docs.python.org/3/library/). \n",
    "\n",
    "- Functions are organized into *modules* that need to be imported to use the functions they contain. \n",
    "- *Modules* are files containing Python code (variables, functions, classes, etc.). They provide a way of organizing the code for large Python projects into files and folders.\n",
    "- The key benefit of using modules is _namespaces_: you must import the module to use its functions within a Python script or notebook. \n",
    "- Namespaces provide encapsulation and avoid naming conflicts between your code and a module or across modules.\n",
    "\n",
    "In addition, there are hundreds of external (third-party) *libraries* that are written in Python or C or Fortran. They are often called *packages*. We will use some of them in this course, Examples include Matplotlib, Numpy, Scipy, Pandas, TensorFlow, PyTorch, etc."
   ]
  },
  {
   "cell_type": "code",
   "execution_count": 36,
   "metadata": {},
   "outputs": [],
   "source": [
    "pi = 3.141592"
   ]
  },
  {
   "cell_type": "code",
   "execution_count": 37,
   "metadata": {},
   "outputs": [
    {
     "data": {
      "text/plain": [
       "(3.141592653589793, 2.718281828459045)"
      ]
     },
     "execution_count": 37,
     "metadata": {},
     "output_type": "execute_result"
    }
   ],
   "source": [
    "import math\n",
    "\n",
    "math.pi, math.e\n"
   ]
  },
  {
   "cell_type": "code",
   "execution_count": 38,
   "metadata": {},
   "outputs": [
    {
     "data": {
      "text/plain": [
       "(3.141592653589793, 2.718281828459045)"
      ]
     },
     "execution_count": 38,
     "metadata": {},
     "output_type": "execute_result"
    }
   ],
   "source": [
    "import numpy\n",
    "\n",
    "numpy.pi, numpy.e"
   ]
  },
  {
   "cell_type": "code",
   "execution_count": null,
   "metadata": {},
   "outputs": [],
   "source": []
  }
 ],
 "metadata": {
  "kernelspec": {
   "display_name": "Python 3 (ipykernel)",
   "language": "python",
   "name": "python3"
  },
  "language_info": {
   "codemirror_mode": {
    "name": "ipython",
    "version": 3
   },
   "file_extension": ".py",
   "mimetype": "text/x-python",
   "name": "python",
   "nbconvert_exporter": "python",
   "pygments_lexer": "ipython3",
   "version": "3.9.12"
  },
  "vscode": {
   "interpreter": {
    "hash": "31f2aee4e71d21fbe5cf8b01ff0e069b9275f58929596ceb00d14d90e3e16cd6"
   }
  }
 },
 "nbformat": 4,
 "nbformat_minor": 4
}
