{
 "cells": [
  {
   "cell_type": "markdown",
   "metadata": {},
   "source": [
    "For this problem set, you will need the following imports."
   ]
  },
  {
   "cell_type": "code",
   "execution_count": 1,
   "metadata": {},
   "outputs": [],
   "source": [
    "import numpy as np\n",
    "import matplotlib.pyplot as plt\n",
    "\n",
    "from scipy.integrate import quad\n",
    "from scipy.optimize import root_scalar, root\n",
    "from scipy.optimize import minimize, minimize_scalar\n"
   ]
  },
  {
   "cell_type": "markdown",
   "metadata": {},
   "source": [
    "## Q1. Write the Python codes to find the zeros of the following functions."
   ]
  },
  {
   "cell_type": "markdown",
   "metadata": {},
   "source": [
    "Q1-1. $$ F(x) = \\int_{x^2}^\\infty \\frac{1}{\\sqrt{2\\pi}} e^{-t^2/2} dt + e^{x} - 3x^3 + 2x + 4$$"
   ]
  },
  {
   "cell_type": "code",
   "execution_count": 2,
   "metadata": {},
   "outputs": [],
   "source": [
    "# your code here\n"
   ]
  },
  {
   "cell_type": "markdown",
   "metadata": {},
   "source": [
    "Q1-2. $$ F(x) = \\int_{\\sqrt{x}}^{x^2} \\log(t) dt - \\sqrt{x} - 3$$"
   ]
  },
  {
   "cell_type": "code",
   "execution_count": 3,
   "metadata": {},
   "outputs": [],
   "source": [
    "# your code here\n"
   ]
  },
  {
   "cell_type": "markdown",
   "metadata": {},
   "source": [
    "Q1-3. \n",
    "$$\n",
    "\\begin{pmatrix}\n",
    "F_1(x_1, x_2,\\cdots,x_9) \\\\\n",
    "\\vdots \\\\\n",
    "F_i(x_1, x_2,\\cdots,x_9) \\\\\n",
    "\\vdots \\\\\n",
    "F_9(x_1, x_2,\\cdots,x_9)\n",
    "\\end{pmatrix}\n",
    "=\n",
    "\\begin{pmatrix}\n",
    "(3-2x_1)x_1 & -2x_2 & & & & & & +1 \\\\ \n",
    "& & & \\vdots \\\\\n",
    "& & -x_{i-1} & +(3-2x_i)x_i & -2x_{i+1} & & & +1 \\\\ \n",
    "& & & \\vdots \\\\\n",
    "& & & & & -x_8 & +(3-2x_9)x_9 & +1 \\\\ \n",
    "\\end{pmatrix}\n",
    "=\n",
    "\\begin{pmatrix}\n",
    "0 \\\\\n",
    "\\vdots \\\\\n",
    "0 \\\\\n",
    "\\vdots \\\\\n",
    "0 \\\\\n",
    "\\end{pmatrix}\n",
    "\\text{for } i=2, \\cdots\\, 8\n",
    "$$\n"
   ]
  },
  {
   "cell_type": "code",
   "execution_count": 4,
   "metadata": {},
   "outputs": [],
   "source": [
    "# your code here\n"
   ]
  },
  {
   "cell_type": "markdown",
   "metadata": {},
   "source": [
    "## Consumer's Utiity Maximization Problem\n",
    "\n",
    "There are many consumers in an economy who are different in labor productivity $x$. An individual consumer is endowed with one unit of time that can be used on either working to make money for consumption or enjoying as leisure. The wage per hour is given by $w$ that is determined in the market. All consumers receive the identical amount of lump-sum transfer $T$ from government. The utility function of the consumer is given by $ u(c, l) = c^{\\frac{1}{3}} l^{\\frac{2}{3}}$, where $c$ and $l$ denote consumption and leisure respectively. The consumer's problem can be written as follows:\n",
    "\n",
    "$$\n",
    "  \\begin{align}\n",
    "  \\max_{c, l} c^{\\frac{1}{3}} l^{\\frac{2}{3}}\\\\\n",
    "  \\text{subject to}\\quad c = wx(1-l) + T \\\\\n",
    "  c \\ge 0 \\\\\n",
    "  0 \\le l \\le 1\n",
    "  \\end{align} \n",
    "$$\n",
    "In the next two questions, we solve for the consumer's utility maximization problem in two different ways.\n"
   ]
  },
  {
   "cell_type": "markdown",
   "metadata": {},
   "source": [
    "## Q2. Univariate function minimization\n"
   ]
  },
  {
   "cell_type": "markdown",
   "metadata": {},
   "source": [
    "Q2-1. You may substitute the constraint (2) into the objective function (1) to make the problem an unconstrained univariable maximization problem with bounds (3) and (4). Write the Python function to compute the optimal consumption, leisure and labor supply $(c^*, l^*, N^s$) for an individual consumer with labor productivity $x$ given the lump-sum transfer $T$ and the market wage $w$. Within the function, solve for the utility maximization problem through the **Brent** method."
   ]
  },
  {
   "cell_type": "code",
   "execution_count": 5,
   "metadata": {},
   "outputs": [],
   "source": [
    "# your code here\n"
   ]
  },
  {
   "cell_type": "markdown",
   "metadata": {},
   "source": [
    "Q2-2. For the time being, assume that $w=2$, $T=0.5$ and $\\sigma_x=0.3$. Draw the graphs for the optimal consumption and leisure for 30 individuals whose log productivities are equally distributed over the range $\\log{x} \\in [-3\\sigma_x, +3\\sigma_x]$."
   ]
  },
  {
   "cell_type": "code",
   "execution_count": 6,
   "metadata": {},
   "outputs": [],
   "source": [
    "# your code here\n"
   ]
  },
  {
   "cell_type": "markdown",
   "metadata": {},
   "source": [
    "Q2-3. Draw the labor supply curve for the following two individuals as the market wage varies over the range of $w\\in[1,4]$.\n",
    "\n",
    "- Individual 1: $\\log{x} = -\\sigma_x$\n",
    "- Individual 3: $\\log{x} = \\sigma_x$\n"
   ]
  },
  {
   "cell_type": "code",
   "execution_count": 7,
   "metadata": {},
   "outputs": [],
   "source": [
    "# your code here\n"
   ]
  },
  {
   "cell_type": "markdown",
   "metadata": {},
   "source": [
    "## Q3. Minimization of multivariate function with constraint"
   ]
  },
  {
   "cell_type": "markdown",
   "metadata": {},
   "source": [
    "Q3-1. In this question, we will solve for the utility maximization as specified by equations (1)~(4). Write the Python function to compute the optimal consumption, leisure and labor supply $(c^*, l^*, N^s$) for an individual consumer with labor productivity $x$ given the lump-sum transfer $T$ and the market wage $w$. Within the function, solve for the utility maximization problem through the **Sequential Lest Squares Programming** algorithm."
   ]
  },
  {
   "cell_type": "code",
   "execution_count": 8,
   "metadata": {},
   "outputs": [],
   "source": [
    "# your code here\n"
   ]
  },
  {
   "cell_type": "markdown",
   "metadata": {},
   "source": [
    "Q3-2. Do again Q2-2 and Q2-3 using the function in Q3-1."
   ]
  },
  {
   "cell_type": "markdown",
   "metadata": {},
   "source": [
    "Q3-3. Suppose that there are 10,000 individuals in the economy whose labor productivities are drawn from the following distributionis: $\\log{x}\\sim N(0, \\sigma_x^2)$. Each individual behaves according to the utility maximization problem described above. Compute and draw histogram of the labor supplies of 100,000 individuals assuming the market wage being equal to 2."
   ]
  },
  {
   "cell_type": "code",
   "execution_count": 9,
   "metadata": {},
   "outputs": [],
   "source": [
    "# your code here\n"
   ]
  },
  {
   "cell_type": "markdown",
   "metadata": {},
   "source": [
    "Q3-4. Draw the aggregate labor supply curve of the above economy as the market wage varies over the range of $w\\in[1,4]$.\n",
    "\n",
    "- create 15 grids of the market wages $w\\in[1,4]$.\n",
    "- for each $w$ compute labor supplies of 10,000 inividuals with different labor productivity as you did in Q3-3.\n",
    "- the aggregate labor supply for a given $w$ is equal to the mean of labor supplies of the 10,000 individuals.\n",
    "- plot the aggregate labor supply curve."
   ]
  },
  {
   "cell_type": "code",
   "execution_count": 10,
   "metadata": {},
   "outputs": [],
   "source": [
    "# your code here\n"
   ]
  }
 ],
 "metadata": {
  "kernelspec": {
   "display_name": "Python 3 (ipykernel)",
   "language": "python",
   "name": "python3"
  },
  "language_info": {
   "codemirror_mode": {
    "name": "ipython",
    "version": 3
   },
   "file_extension": ".py",
   "mimetype": "text/x-python",
   "name": "python",
   "nbconvert_exporter": "python",
   "pygments_lexer": "ipython3",
   "version": "3.9.12"
  }
 },
 "nbformat": 4,
 "nbformat_minor": 2
}
