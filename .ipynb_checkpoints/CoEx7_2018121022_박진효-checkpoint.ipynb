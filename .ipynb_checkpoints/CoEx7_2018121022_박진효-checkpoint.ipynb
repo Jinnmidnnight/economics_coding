{
 "cells": [
  {
   "cell_type": "markdown",
   "metadata": {},
   "source": [
    "## Economy\n",
    "\n",
    "There is a representative consumer/worker and a representative firm in an economy. \n",
    "\n",
    "- The consumer \n",
    "  - is endowed with one unit of time that can be used on either working to make money for consumption ($c$) or enjoying as leisure ($l$). \n",
    "  - owns the firm, hence she receives the firm's profits in the form of dividend. \n",
    "  - utility function is given by $ U(c, l) = c^{1/3} l^{2/3}$. \n",
    "- The firm \n",
    "  - produces output using a production function: $Y=A\\sqrt{N}$ where $Y$ and $N$ denote output and labor input respectively. \n",
    "  - sells output in the market at the unit price, i.e., $P=1$. \n",
    "- All markets are perfectly competitive so that the consumer and the firm acts as if they are price takers. The wage is determined to clear the labor market.\n",
    "\n",
    "- Given the market wage $w$, the consumer's problem can be written as: \n",
    "  $$ \\max_{c, l} U(c,l) = c^{1/3} l^{2/3},  \\text{ s.t. } c = w(1-l) + \\pi $$\n",
    "\n",
    "- Given the market wage $w$, the firm's problem can be written as: \n",
    "  $$ \\max_{N} \\pi = A\\sqrt{N} - wN $$\n",
    "\n",
    "Below we will solve for the general equilibrium of the economy. \n",
    "- As you may see from the structure of the economy above, the only parameter that characterize the economy is the TFP ($A$) in the production function. \n",
    "- The key variable that you have to solve for the general equilibrium is the wage $w^*$ that clears the labor market. \n",
    "- Once we solve for $w^*$, all other variables can be solved using the value of $w^*$. Keep these in mind!"
   ]
  },
  {
   "cell_type": "markdown",
   "metadata": {},
   "source": [
    "## Q1. Consumer's utility maximization problem\n",
    "\n",
    "- Assuming the interior solutions, write down the optimal consumption ($c^*$) and leisure ($l^*$) as functions of $w$ and $\\pi$ from the first order conditions for the consumer's utility maximization problem.\n",
    "- Write down the labor supply ($N^s$) as a function of $w$ and $\\pi$.\n",
    "- For the above two questions, write down your answers on a piece of paper, take a photo of it with your cellphone and then put the image file here. You should also attach the original image file when you submit your homework on LearUs."
   ]
  },
  {
   "cell_type": "markdown",
   "metadata": {},
   "source": [
    "Include your image file here.\n",
    "<img src=\"CoEx7_2018121022_박진효_q1.jpg\">"
   ]
  },
  {
   "cell_type": "markdown",
   "metadata": {},
   "source": [
    "## Q2. Firm's profit maxmization problem\n",
    "\n",
    "- Write down the optimal labor demand ($N^d$) as a function of $w$.\n",
    "- Write down the maximized profits ($\\pi$) as a function of $w$.\n",
    "- For the above two questions, write down your answers on a piece of paper, take a photo of it with your cellphone and then put the image file here. You should also attach the original image file when you submit your homework on LearUs."
   ]
  },
  {
   "cell_type": "markdown",
   "metadata": {},
   "source": [
    "Include your image file here.\n",
    "<img src=\"CoEx7_2018121022_박진효_q2.jpg\">"
   ]
  },
  {
   "cell_type": "markdown",
   "metadata": {},
   "source": [
    "## Q3. Define the class for the economy\n",
    "\n",
    "Now you are ready to define the class for the above economy. Name the class `GeneralEquilibrium`. Write the Python codes for the class `GeneralEquilibrium`, which should contain the following functions.\n",
    "\n",
    "- class constructor\n",
    "- optimal_consumption: you solved in Q1.\n",
    "- optimal_leisure: you solved in Q1.\n",
    "- labor_supply: you solved in Q1.\n",
    "- labor_demand: you solved in Q2.\n",
    "- profit: you solved in Q2.\n",
    "- market_clear: the function that states the labor market clearing condition. Remember that you want to find the equilibrium market wage when this market cleaaring condition holds."
   ]
  },
  {
   "cell_type": "markdown",
   "metadata": {},
   "source": [
    "You will need the following imports."
   ]
  },
  {
   "cell_type": "code",
   "execution_count": 1,
   "metadata": {},
   "outputs": [],
   "source": [
    "import numpy as np\n",
    "import matplotlib.pyplot as plt\n",
    "from scipy.optimize import root_scalar\n",
    "\n",
    "%matplotlib inline"
   ]
  },
  {
   "cell_type": "code",
   "execution_count": 2,
   "metadata": {},
   "outputs": [],
   "source": [
    "# your code here\n"
   ]
  },
  {
   "cell_type": "markdown",
   "metadata": {},
   "source": [
    "## Q4. Find the general equilibrium\n",
    "\n",
    "Write the Python codes for the following.\n",
    "\n",
    "- Set $A=4$ and create an instance of the class that you difined above.\n",
    "- Compute the equilibrium wage ($w^*$) using the `brentq` method that you learned in the lecture for `Scipy`.\n",
    "- Using the value of $w^*$, compute the following variables in the general equilibrium.\n",
    "  - labor input ($N^*$)\n",
    "  - profit ($\\pi^*$)\n",
    "  - consumption ($c^*$)\n",
    "  - leisure ($l^*$)\n",
    "  - output ($Y^*$)\n"
   ]
  },
  {
   "cell_type": "code",
   "execution_count": 3,
   "metadata": {},
   "outputs": [],
   "source": [
    "# your code here\n"
   ]
  },
  {
   "cell_type": "markdown",
   "metadata": {},
   "source": [
    "## Q5. Analytic solution for the market clearing wage\n",
    "\n",
    "- Solve for the market clearing wage ($w^*$) by equating the labor supply and labor demand functions that you derived in Q1 and Q2. \n",
    "- Write down your answer on a piece of paper, take a photo of it with your cellphone and then put the image file here. You should also attach the original image file when you submit your homework on LearUs.\n",
    "- Compare the numerically solved market clearing wage from Q4 and the analytic solution just above. "
   ]
  },
  {
   "cell_type": "markdown",
   "metadata": {},
   "source": [
    "Include your image file here."
   ]
  },
  {
   "cell_type": "code",
   "execution_count": 4,
   "metadata": {},
   "outputs": [],
   "source": [
    "# your code here\n"
   ]
  },
  {
   "cell_type": "markdown",
   "metadata": {},
   "source": [
    "## Q6. Comparative statics\n",
    "\n",
    "Compute the following variables in the general equilibrium as the TFP varies over the range $[2,10]$ and plot the results.\n",
    "- market wage\n",
    "- labor input\n",
    "- profit\n",
    "- consumption"
   ]
  },
  {
   "cell_type": "code",
   "execution_count": 5,
   "metadata": {},
   "outputs": [],
   "source": [
    "# your code here\n"
   ]
  }
 ],
 "metadata": {
  "kernelspec": {
   "display_name": "Python 3 (ipykernel)",
   "language": "python",
   "name": "python3"
  },
  "language_info": {
   "codemirror_mode": {
    "name": "ipython",
    "version": 3
   },
   "file_extension": ".py",
   "mimetype": "text/x-python",
   "name": "python",
   "nbconvert_exporter": "python",
   "pygments_lexer": "ipython3",
   "version": "3.9.12"
  },
  "vscode": {
   "interpreter": {
    "hash": "39af2ca0895277c44512c921bb7f88f8dc25be0442cca964837d7637ba0b2326"
   }
  }
 },
 "nbformat": 4,
 "nbformat_minor": 2
}
