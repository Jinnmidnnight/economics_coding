{
 "cells": [
  {
   "cell_type": "markdown",
   "metadata": {},
   "source": [
    "# Branching and Iteration"
   ]
  },
  {
   "cell_type": "markdown",
   "metadata": {},
   "source": [
    "- Two powerful features of any programming languages are **Branching** and **Iteration**.\n",
    "- Sometimes we want to execute some piece of codes only when a certain condition is met. `Branching` is the procedure to evalutate one or more conditions and make decisions which code blocks to be executed. Branching is conducted using `conditionals` which are closely tied to `booleans`.\n",
    "- When doing computations or analyzing data, we often need to repeat certain operations a finite number of times or until some condition is met. These procedures are called `Iteration`."
   ]
  },
  {
   "cell_type": "markdown",
   "metadata": {
    "tags": []
   },
   "source": [
    "## Branching with `if`, `elif` and `else`\n",
    "\n",
    "In Python, branching is implemented using the `if` statement, the basic syntax is as follows:\n",
    "\n",
    "```\n",
    "if condition 1:\n",
    "    code block 1\n",
    "elif condition 2:\n",
    "    code block 2\n",
    "elif condition 3:\n",
    "    code block 3\n",
    "    :\n",
    "    :\n",
    "else:\n",
    "    code block n\n",
    "```"
   ]
  },
  {
   "cell_type": "markdown",
   "metadata": {},
   "source": [
    "\n",
    "The control flows as follows:\n",
    "\n",
    "- If `condition 1` is evaluated `True`, `code block 1` is executed, otherwise the control flows to the next `elif` block.\n",
    "- `condition x`s in `elif` blocks are evaluated one by one in order until they are evaluated `True`.\n",
    "- For the first `condition x` is evaluated `True`, `code block x` is executed.\n",
    "- if all previous `if` and `elif` blocks are evaluated `False`, `code block n` in `else` block is executed.\n",
    "- `elif` and `else` blocks are optional.\n",
    "    \n",
    "Notice \n",
    "- colon(:) after `if`, `elif` and `else` statements as for most Python keyworkds\n",
    "- spaces before code blocks within `if`, `elif` and `else`blocks: \n",
    "    * *Indendation* is the way of structuring code in Python.\n",
    "    * the same number of spaces should be given for statements in a structire.\n",
    "    * the number of spaces does not matter, but 4 is a usual choice."
   ]
  },
  {
   "cell_type": "markdown",
   "metadata": {},
   "source": [
    "### Example with the progressive income taxation\n",
    "\n",
    "The tax rates for various income ranges are given below (the Nationa Tax Service, Korea). \n",
    "\n",
    "We want to calculate the tax liability for a specific income.\n",
    "\n",
    "|             tax_base          | tax_rate | deduction  |\n",
    "|-------------------------------|----------|------------|\n",
    "|               ~    12,000,000 |     6%   |     -      |\n",
    "|    12,000,000 ~    46,000,000 |    15%   |  1,080,000 |\n",
    "|    46,000,000 ~    88,000,000 |    24%   |  5,220,000 |\n",
    "|    88,000,000 ~   150,000,000 |    35%   | 14,900,000 |\n",
    "|   150,000,000 ~   300,000,000 |    38%   | 19,400,000 |\n",
    "|   300,000,000 ~   500,000,000 |    40%   | 25,400,000 |\n",
    "|   500,000,000 ~ 1,000,000,000 |    42%   | 35,400,000 |\n",
    "| 1,000,000,000 ~               |    45%   | 65,400,000 |\n"
   ]
  },
  {
   "cell_type": "code",
   "execution_count": 1,
   "metadata": {},
   "outputs": [
    {
     "data": {
      "text/plain": [
       "4920000.0"
      ]
     },
     "execution_count": 1,
     "metadata": {},
     "output_type": "execute_result"
    }
   ],
   "source": [
    "# tax liability for tax_base = 40,000,000\n",
    "\n",
    "12_000_000 * 0.06 + 28_000_000 * 0.15"
   ]
  },
  {
   "cell_type": "code",
   "execution_count": 2,
   "metadata": {},
   "outputs": [
    {
     "data": {
      "text/plain": [
       "4920000.0"
      ]
     },
     "execution_count": 2,
     "metadata": {},
     "output_type": "execute_result"
    }
   ],
   "source": [
    "40_000_000 * 0.15 - 1_080_000"
   ]
  },
  {
   "cell_type": "code",
   "execution_count": 8,
   "metadata": {},
   "outputs": [
    {
     "name": "stdout",
     "output_type": "stream",
     "text": [
      "Tax amount is 4,920,000.0\n"
     ]
    }
   ],
   "source": [
    "# calculate the tax liability for a specific amount of income\n",
    "\n",
    "income = 40_000_000\n",
    "\n",
    "if income <= 12_000_000:\n",
    "    tax_liability = income*0.06\n",
    "elif income <= 46_000_000:\n",
    "    tax_liability = 12_000_000*0.06 \\\n",
    "    + (income-12_000_000)*0.15\n",
    "elif income <= 88_000_000:\n",
    "    tax_liability = 12_000_000*0.06  \\\n",
    "    + (46_000_000-12_000_000)*0.15 \\\n",
    "    + (income      -46_000_000)*0.24\n",
    "elif income <= 150_000_000:\n",
    "    tax_liability = 12_000_000*0.06  \\\n",
    "    + (46_000_000-12_000_000)*0.15 \\\n",
    "    + (88_000_000-46_000_000)*0.24 \\\n",
    "    + (income      -88_000_000)*0.35\n",
    "elif income <= 300_000_000:\n",
    "    tax_liability = 12_000_000*0.06  \\\n",
    "    + (46_000_000-12_000_000)*0.15 \\\n",
    "    + (88_000_000-46_000_000)*0.24 \\\n",
    "    + (150_000_000-88_000_000)*0.35 \\\n",
    "    + (income      -150_000_000)*0.38\n",
    "elif income <= 500_000_000:\n",
    "    tax_liability = 12_000_000*0.06  \\\n",
    "    + (46_000_000-12_000_000)*0.15 \\\n",
    "    + (88_000_000-46_000_000)*0.24 \\\n",
    "    + (150_000_000-88_000_000)*0.35 \\\n",
    "    + (300_000_000-150_000_000)*0.38 \\\n",
    "    + (income      -300_000_000)*0.40\n",
    "elif income <= 1_000_000_000:\n",
    "    tax_liability = 12_000_000*0.06  \\\n",
    "    + (46_000_000-12_000_000)*0.15 \\\n",
    "    + (88_000_000-46_000_000)*0.24 \\\n",
    "    + (150_000_000-88_000_000)*0.35 \\\n",
    "    + (300_000_000-150_000_000)*0.38 \\\n",
    "    + (500_000_000-300_000_000)*0.40 \\\n",
    "    + (income      -500_000_000)*0.42\n",
    "else:\n",
    "    tax_liability = 12_000_000*0.06  \\\n",
    "    + (46_000_000-12_000_000)*0.15 \\\n",
    "    + (88_000_000-46_000_000)*0.24 \\\n",
    "    + (150_000_000-88_000_000)*0.35 \\\n",
    "    + (300_000_000-150_000_000)*0.38 \\\n",
    "    + (500_000_000-300_000_000)*0.40 \\\n",
    "    + (1_000_000_000-500_000_000)*0.42 \\\n",
    "    + (income      -1_000_000_000)*0.45\n",
    "    \n",
    "print(f\"Tax amount is {tax_liability:,}\")"
   ]
  },
  {
   "cell_type": "code",
   "execution_count": 9,
   "metadata": {},
   "outputs": [],
   "source": [
    "# set the tax codes using variables\n",
    "\n",
    "tax_rates = (0.06, 0.15, 0.24, 0.35, 0.38, 0.40, 0.42, 0.45)\n",
    "tax_bases = (12_000_000, 46_000_000, 88_000_000, 150_000_000, 300_000_000, 500_000_000, 1_000_000_000)\n",
    "deduction = (0, 1_080_000, 5_220_000, 14_900_000, 19_400_000, 25_400_000, 35_400_000, 65_400_000)"
   ]
  },
  {
   "cell_type": "code",
   "execution_count": 10,
   "metadata": {},
   "outputs": [
    {
     "name": "stdout",
     "output_type": "stream",
     "text": [
      "Tax amount is 4,920,000.0\n"
     ]
    }
   ],
   "source": [
    "# calculate the tax liability for a specific amount of income using the tax formula\n",
    "\n",
    "income = 40_000_000\n",
    "\n",
    "if income <= tax_bases[0]:\n",
    "    tax_liability = income*tax_rates[0]\n",
    "elif income <= tax_bases[1]:\n",
    "    tax_liability = income*tax_rates[1] - deduction[1]\n",
    "elif income <= tax_bases[2]:\n",
    "    tax_liability = income*tax_rates[2] - deduction[2]\n",
    "elif income <= tax_bases[3]:\n",
    "    tax_liability = income*tax_rates[3] - deduction[3]\n",
    "elif income <= tax_bases[4]:\n",
    "    tax_liability = income*tax_rates[4] - deduction[4]\n",
    "elif income <= tax_bases[5]:\n",
    "    tax_liability = income*tax_rates[5] - deduction[5]\n",
    "elif income <= tax_bases[6]:\n",
    "    tax_liability = income*tax_rates[6] - deduction[6]\n",
    "else:\n",
    "    tax_liability = income*tax_rates[7] - deduction[7]\n",
    "    \n",
    "print(f\"Tax amount is {tax_liability:,}\")"
   ]
  },
  {
   "cell_type": "markdown",
   "metadata": {},
   "source": [
    "### Nested conditional statements\n",
    "\n",
    "An `if` block (inner conditional) can appear within another `if` block (outer conditional) in order to check whether the inner condition holds true given that the the outer condition is met."
   ]
  },
  {
   "cell_type": "code",
   "execution_count": 11,
   "metadata": {},
   "outputs": [
    {
     "name": "stdout",
     "output_type": "stream",
     "text": [
      "Tax amount is 4,920,000.0\n"
     ]
    }
   ],
   "source": [
    "# calculate the tax liability for a specific amount of income\n",
    "\n",
    "income = 40_000_000\n",
    "\n",
    "tax_liability = income*tax_rates[0]\n",
    "\n",
    "if income > tax_bases[0]:\n",
    "  if income > tax_bases[1]:\n",
    "    if income > tax_bases[2]:\n",
    "      if income > tax_bases[3]:\n",
    "        if income > tax_bases[4]:\n",
    "          if income > tax_bases[5]:\n",
    "            if income > tax_bases[6]:\n",
    "              tax_liability = income*tax_rates[7] - deduction[7]\n",
    "            else:\n",
    "              tax_liability = income*tax_rates[6] - deduction[6]\n",
    "          else:\n",
    "            tax_liability = income*tax_rates[5] - deduction[5]\n",
    "        else:\n",
    "          tax_liability = income*tax_rates[4] - deduction[4]\n",
    "      else:\n",
    "        tax_liability = income*tax_rates[3] - deduction[3]\n",
    "    else:\n",
    "      tax_liability = income*tax_rates[2] - deduction[2]\n",
    "  else:\n",
    "    tax_liability = income*tax_rates[1] - deduction[1]\n",
    "    \n",
    "print(f\"Tax amount is {tax_liability:,}\")"
   ]
  },
  {
   "cell_type": "markdown",
   "metadata": {},
   "source": [
    "### Shorthand `if-else` conditional expression\n",
    "\n",
    "A simple `if-else` code block can be abbreviated into a single-line *conditional expression* (or *ternary operator*) as follows.\n",
    "\n",
    "```\n",
    "x = true_value if condition else false_value\n",
    "```\n",
    "\n",
    "This statement is equivalent to the following `if`-`else` block:\n",
    "\n",
    "```\n",
    "if condition:\n",
    "    x = true_value\n",
    "else:\n",
    "    x = false_value\n",
    "```"
   ]
  },
  {
   "cell_type": "code",
   "execution_count": 12,
   "metadata": {},
   "outputs": [
    {
     "name": "stdout",
     "output_type": "stream",
     "text": [
      "The number 13 is odd.\n"
     ]
    }
   ],
   "source": [
    "x = 13\n",
    "\n",
    "if x % 2 == 0:\n",
    "    result = 'even'\n",
    "else:\n",
    "    result = 'odd'\n",
    "\n",
    "print(f'The number {x} is {result}.')"
   ]
  },
  {
   "cell_type": "code",
   "execution_count": 13,
   "metadata": {},
   "outputs": [
    {
     "name": "stdout",
     "output_type": "stream",
     "text": [
      "The number 13 is odd.\n"
     ]
    }
   ],
   "source": [
    "result = 'even' if x % 2 == 0 else 'odd'\n",
    "\n",
    "print(f'The number {x} is {result}.')"
   ]
  },
  {
   "cell_type": "markdown",
   "metadata": {},
   "source": [
    "## Iteration with `while` loop"
   ]
  },
  {
   "cell_type": "markdown",
   "metadata": {},
   "source": [
    "The basic syntax of `while` loop is as follows: \n",
    "```\n",
    "while condition:\n",
    "    code block\n",
    "```\n",
    "\n",
    "- code block consists of one or more statements and are executed repeatedly as long as the `condition` evaluates to `True`. \n",
    "- there must be a statement, in the code block, that causes the condition to evaluate to `False` after a certain number of iterations.\n",
    "- if a loop control statement were not provided, the loop never finishes: infinite loop."
   ]
  },
  {
   "cell_type": "markdown",
   "metadata": {},
   "source": [
    "### Example: calcuate a factorial\n",
    "\n",
    "$n! = n \\times (n-1) \\times (n-2) \\cdots 1$"
   ]
  },
  {
   "cell_type": "code",
   "execution_count": 14,
   "metadata": {},
   "outputs": [
    {
     "name": "stdout",
     "output_type": "stream",
     "text": [
      "The factorial of 10 is: 3628800\n"
     ]
    }
   ],
   "source": [
    "factorial = 1\n",
    "\n",
    "n = 10\n",
    "i = n\n",
    "\n",
    "while i >= 1:       # evaluate condition \n",
    "    factorial *= i  # statement to be executed while condition is True: cummulative product\n",
    "                    # short form of factorial = factorial * i\n",
    "    i -= 1          # change the multiple for the next execution\n",
    "                    # this will eventually cause condition to False after n iterations\n",
    "\n",
    "print(f'The factorial of {n} is: {factorial}')"
   ]
  },
  {
   "cell_type": "code",
   "execution_count": 15,
   "metadata": {},
   "outputs": [
    {
     "name": "stdout",
     "output_type": "stream",
     "text": [
      "The factorial of 10 is: 3628800\n"
     ]
    }
   ],
   "source": [
    "# get out of a loop using `break`\n",
    "\n",
    "factorial = 1\n",
    "\n",
    "n = 10\n",
    "i = n\n",
    "\n",
    "while True:\n",
    "    factorial *= i\n",
    "    i -= 1\n",
    "    if i == 0:\n",
    "        break\n",
    "\n",
    "print(f'The factorial of {n} is: {factorial}')"
   ]
  },
  {
   "cell_type": "code",
   "execution_count": 16,
   "metadata": {},
   "outputs": [
    {
     "data": {
      "text/plain": [
       "3628800"
      ]
     },
     "execution_count": 16,
     "metadata": {},
     "output_type": "execute_result"
    }
   ],
   "source": [
    "# there is already `factorial' function in 'math' library that can be called to calcuate a factorial of n\n",
    "\n",
    "import math\n",
    "\n",
    "math.factorial(10)"
   ]
  },
  {
   "cell_type": "markdown",
   "metadata": {},
   "source": [
    "### continue/break\n",
    "\n",
    "There are some cases that we need to shifts the control flows within a loop depending on conditionals\n",
    "- `continue` shifts the control to the next iteration immediately without executing statements below it.\n",
    "- `break` terminates executing the statements and shift the control out of the loop immediately\n"
   ]
  },
  {
   "cell_type": "code",
   "execution_count": null,
   "metadata": {},
   "outputs": [],
   "source": [
    "# sum of odd numbers\n",
    "\n",
    "n = 10\n",
    "i = 1\n",
    "odd_sum = 0\n",
    "\n",
    "while True:\n",
    "\n",
    "    if i % 2 == 0:\n",
    "        i += 1\n",
    "        continue\n",
    "\n",
    "    odd_sum += i\n",
    "    i += 1\n",
    " \n",
    "    if i >= n:\n",
    "        break \n",
    "\n",
    "\n",
    "print(f'The sum of odd numbers less than {n} is {odd_sum}')"
   ]
  },
  {
   "cell_type": "markdown",
   "metadata": {},
   "source": [
    "## Iteration with `for` loops"
   ]
  },
  {
   "cell_type": "markdown",
   "metadata": {},
   "source": [
    "\n",
    "The basic syntax si as follows:\n",
    "\n",
    "```\n",
    "for value in iterable:\n",
    "    code block\n",
    "```\n",
    "\n",
    "- code block consists of one or more statements and are executed for each item in the `iterable'.\n",
    "- a `for` loop is used for iterating over iterables: lists, tuples, dictionaries, strings, `range/enumerate/zip` objects.\n",
    "    * iterable is anything capable of producing one item at a time (see here for official definition from the Python team).\n",
    "    * when the for loop is executed, item will take on one value from iterable at a time and execute the code block for each value\n",
    "    * for more info on `iterable`, refer to [https://docs.python.org/3/glossary.html#term-iterable]"
   ]
  },
  {
   "cell_type": "code",
   "execution_count": null,
   "metadata": {},
   "outputs": [],
   "source": [
    "# for loop with a list\n",
    "\n",
    "weekdays = ['Monday', 'Tuesday', 'Wednesday', 'Thursday', 'Friday']\n",
    "\n",
    "for day in weekdays:\n",
    "    print(day)"
   ]
  },
  {
   "cell_type": "code",
   "execution_count": null,
   "metadata": {},
   "outputs": [],
   "source": [
    "# range()\n",
    "\n",
    "a_range = range(3)  # a_range = 0, 1, 2\n",
    "#a_range = range(3, 5) # a_range = 3, 4\n",
    "#a_range = range(0, 5, 2) # a_range = 0, 2, 4\n",
    "#a_range = range(5, 2, -1) # a_range = 5, 4, 3\n",
    "\n",
    "for i in a_range:\n",
    "  print(i)"
   ]
  },
  {
   "cell_type": "code",
   "execution_count": null,
   "metadata": {},
   "outputs": [],
   "source": [
    "# for loop with a range()\n",
    "\n",
    "n = 10\n",
    "factorial = 1\n",
    "\n",
    "for i in range(n, 1, -1):\n",
    "  factorial *= i\n",
    "\n",
    "print(f'The factorial of {n} is: {factorial}')"
   ]
  },
  {
   "cell_type": "code",
   "execution_count": null,
   "metadata": {},
   "outputs": [],
   "source": [
    "# for loop with an enumerate() function:\n",
    "# `enumerate` takes a list as an input and returns a tuple containing the index and the corresponding value.\n",
    "\n",
    "for (index, base) in enumerate(tax_bases):\n",
    "    print(f'The marginal tax rate for income under {base:,} is {tax_rates[index]*100}%.')\n"
   ]
  },
  {
   "cell_type": "code",
   "execution_count": null,
   "metadata": {},
   "outputs": [],
   "source": [
    "# for loop with a zip()\n",
    "#  \n",
    "tax_rates = (0.06, 0.15, 0.24, 0.35, 0.38, 0.40, 0.42, 0.45)\n",
    "tax_bases = (12_000_000, 46_000_000, 88_000_000, 150_000_000, 300_000_000, 500_000_000, 1_000_000_000)\n",
    "\n",
    "for rate, base in zip(tax_rates, tax_bases):\n",
    "    print(f'The marginal tax rate for income under {base:,} is {rate*100}%.')\n",
    "\n",
    "print(f'The marginal tax rate for income over {tax_bases[-1]:,} is {tax_rates[-1]*100}%.')\n"
   ]
  },
  {
   "cell_type": "code",
   "execution_count": null,
   "metadata": {},
   "outputs": [],
   "source": [
    "# for loop with a dictionary\n",
    "\n",
    "Instructor1 = {\n",
    "    'first_name': 'Sun-Bin',\n",
    "    'last_name': 'Kim',\n",
    "    'position': 'professor',\n",
    "    'office_no': 531,\n",
    "    'PhD': True,\n",
    "    'specialty': 'Macroeconomics',\n",
    "    'degree_from': \"University of Pennsylvania\",\n",
    "    'degree_year': 2001\n",
    "}\n",
    "\n",
    "for key in Instructor1:\n",
    "    print(f\"{key}: {Instructor1[key]}.\")"
   ]
  },
  {
   "cell_type": "markdown",
   "metadata": {},
   "source": [
    "### Nested loops\n",
    "\n",
    "Similar to conditional statements, loops can be nested inside other loops. This is useful for iterating over a list of lists, dictionaries, and numpy arrays of higer dimensions."
   ]
  },
  {
   "cell_type": "code",
   "execution_count": null,
   "metadata": {},
   "outputs": [],
   "source": [
    "Instructor2 = dict(\n",
    "    first_name = 'Joocheol',\n",
    "    last_name = 'Kim',\n",
    "    position = 'professor',\n",
    "    office_no = 519,\n",
    "    PhD = True,\n",
    "    specialty = 'Financial Engineering',\n",
    "    degree_from = \"Georgia Institute of Technology\",\n",
    "    degree_year = 2000\n",
    ")\n",
    "\n",
    "Instructors = [Instructor1, Instructor2]\n",
    "for (index, instructor) in enumerate(Instructors):\n",
    "    print(\"Info of Instruction\", index+1)\n",
    "    for key in instructor:\n",
    "        print(f\"{key}: {instructor[key]}\")\n",
    "    print(\" \")"
   ]
  },
  {
   "cell_type": "markdown",
   "metadata": {},
   "source": [
    "### Comprehension\n",
    "\n",
    "During computation, there may be the case where values computed through simple operations for every item of an iterable are saved in another iterable. This task can be done by either `for loop` or `comprehension`. The comprehension applies most to `list` while this concept generally may apply to any iterables."
   ]
  },
  {
   "cell_type": "markdown",
   "metadata": {},
   "source": [
    "#### Example: list comprehension\n",
    "\n",
    "We would like to create a list **x2** whose elements are the squared values of numbers 1 to 10."
   ]
  },
  {
   "cell_type": "code",
   "execution_count": null,
   "metadata": {},
   "outputs": [],
   "source": [
    "# create a list using for loop\n",
    "\n",
    "x2 = []\n",
    "for x in range(1, 11):\n",
    "  x2.append(x**2)\n",
    "\n",
    "x2"
   ]
  },
  {
   "cell_type": "code",
   "execution_count": null,
   "metadata": {},
   "outputs": [],
   "source": [
    "# create a list using comprehension\n",
    "\n",
    "x2 = [x**2 for x in range(1,11)]\n",
    "x2"
   ]
  },
  {
   "cell_type": "code",
   "execution_count": null,
   "metadata": {},
   "outputs": [],
   "source": [
    "# Create a dictionary from lists\n",
    "\n",
    "subjects = [\"microeconomics\", \"macroeconomics\", \"econometrics\"]\n",
    "marks = [80, 90, 100]\n",
    "transcript = {key: value for key, value in zip(subjects, marks)}\n",
    "\n",
    "transcript"
   ]
  }
 ],
 "metadata": {
  "kernelspec": {
   "display_name": "Python 3 (ipykernel)",
   "language": "python",
   "name": "python3"
  },
  "language_info": {
   "codemirror_mode": {
    "name": "ipython",
    "version": 3
   },
   "file_extension": ".py",
   "mimetype": "text/x-python",
   "name": "python",
   "nbconvert_exporter": "python",
   "pygments_lexer": "ipython3",
   "version": "3.9.12"
  },
  "vscode": {
   "interpreter": {
    "hash": "39af2ca0895277c44512c921bb7f88f8dc25be0442cca964837d7637ba0b2326"
   }
  }
 },
 "nbformat": 4,
 "nbformat_minor": 4
}
