{
 "cells": [
  {
   "cell_type": "markdown",
   "metadata": {},
   "source": [
    "## Q1. Numpy Array Operations"
   ]
  },
  {
   "cell_type": "markdown",
   "metadata": {},
   "source": [
    "1. Create a 1-D numpy (`arr_1d`) array with numbers (2, 3, 5, 7, 11, 13, 17, 19, 23, 29, 31, 37, 41, 43, 47, 53, 59, 61, 67, 71)"
   ]
  },
  {
   "cell_type": "code",
   "execution_count": 104,
   "metadata": {},
   "outputs": [
    {
     "data": {
      "text/plain": [
       "array([ 2,  3,  5,  7, 11, 13, 17, 19, 23, 29, 31, 37, 41, 43, 47, 53, 59,\n",
       "       61, 67, 71])"
      ]
     },
     "execution_count": 104,
     "metadata": {},
     "output_type": "execute_result"
    }
   ],
   "source": [
    "import numpy as np\n",
    "\n",
    "# your code here\n",
    "arr_1d = np.array([2, 3, 5, 7, 11, 13, 17, 19, 23, 29, 31, 37, 41, 43, 47, 53, 59, 61, 67, 71])\n",
    "arr_1d"
   ]
  },
  {
   "cell_type": "markdown",
   "metadata": {},
   "source": [
    "2. Compute the sum of squared errors of `arr_1d`."
   ]
  },
  {
   "cell_type": "code",
   "execution_count": 105,
   "metadata": {},
   "outputs": [
    {
     "data": {
      "text/plain": [
       "9590.949999999999"
      ]
     },
     "execution_count": 105,
     "metadata": {},
     "output_type": "execute_result"
    }
   ],
   "source": [
    "# your code here\n",
    "np.sum((arr_1d - np.mean(arr_1d)) ** 2)"
   ]
  },
  {
   "cell_type": "markdown",
   "metadata": {},
   "source": [
    "3. show all elements of `arr_1d` that are at odd-indices."
   ]
  },
  {
   "cell_type": "code",
   "execution_count": 106,
   "metadata": {},
   "outputs": [
    {
     "data": {
      "text/plain": [
       "array([ 3,  7, 13, 19, 29, 37, 43, 53, 61, 71])"
      ]
     },
     "execution_count": 106,
     "metadata": {},
     "output_type": "execute_result"
    }
   ],
   "source": [
    "# your code here\n",
    "\n",
    "# odd-indices: arr_1d[1], ard_1d[3], arr_1d[5] ...\n",
    "arr_1d[np.arange(1, len(arr_1d), 2)]"
   ]
  },
  {
   "cell_type": "markdown",
   "metadata": {},
   "source": [
    "4. show all elements of `arr_1d` that are larger than 40."
   ]
  },
  {
   "cell_type": "code",
   "execution_count": 107,
   "metadata": {},
   "outputs": [
    {
     "data": {
      "text/plain": [
       "array([41, 43, 47, 53, 59, 61, 67, 71])"
      ]
     },
     "execution_count": 107,
     "metadata": {},
     "output_type": "execute_result"
    }
   ],
   "source": [
    "# your code here\n",
    "arr_1d[arr_1d > 40]"
   ]
  },
  {
   "cell_type": "markdown",
   "metadata": {},
   "source": [
    "5. show all elements of `arr_1d` at even-indices and smaller than 40."
   ]
  },
  {
   "cell_type": "code",
   "execution_count": 108,
   "metadata": {},
   "outputs": [
    {
     "data": {
      "text/plain": [
       "array([ 2,  5, 11, 17, 23, 31])"
      ]
     },
     "execution_count": 108,
     "metadata": {},
     "output_type": "execute_result"
    }
   ],
   "source": [
    "# your code here\n",
    "\n",
    "# even-indices: arr_1d[0], ard_1d[2], arr_1d[4] ...\n",
    "arr_1d[(arr_1d < 40) & (np.arange(len(arr_1d)) % 2 == 0)]"
   ]
  },
  {
   "cell_type": "markdown",
   "metadata": {},
   "source": [
    "6. Create a 2-d array of which the first column contains elements of `arr_1d` at even-indices and the second column contains elements of `arr_1d` at even-indices."
   ]
  },
  {
   "cell_type": "code",
   "execution_count": 109,
   "metadata": {},
   "outputs": [
    {
     "data": {
      "text/plain": [
       "array([[ 2,  2],\n",
       "       [ 5,  5],\n",
       "       [11, 11],\n",
       "       [17, 17],\n",
       "       [23, 23],\n",
       "       [31, 31],\n",
       "       [41, 41],\n",
       "       [47, 47],\n",
       "       [59, 59],\n",
       "       [67, 67]])"
      ]
     },
     "execution_count": 109,
     "metadata": {},
     "output_type": "execute_result"
    }
   ],
   "source": [
    "# your code here\n",
    "arr_2d_even_indices = np.vstack((arr_1d[::2], arr_1d[::2])).T\n",
    "arr_2d_even_indices"
   ]
  },
  {
   "cell_type": "markdown",
   "metadata": {},
   "source": [
    "7. Using `arr_1d` create a 2-d array of shape (5,4), `arr_2d`."
   ]
  },
  {
   "cell_type": "code",
   "execution_count": 110,
   "metadata": {},
   "outputs": [
    {
     "data": {
      "text/plain": [
       "array([[ 2,  3,  5,  7],\n",
       "       [11, 13, 17, 19],\n",
       "       [23, 29, 31, 37],\n",
       "       [41, 43, 47, 53],\n",
       "       [59, 61, 67, 71]])"
      ]
     },
     "execution_count": 110,
     "metadata": {},
     "output_type": "execute_result"
    }
   ],
   "source": [
    "# your code here\n",
    "arr_2d = arr_1d.reshape(5, 4)\n",
    "arr_2d"
   ]
  },
  {
   "cell_type": "markdown",
   "metadata": {},
   "source": [
    "8. Add the array of the first 4 elements of `arr_1d` to each row of `arr_2d`."
   ]
  },
  {
   "cell_type": "code",
   "execution_count": 112,
   "metadata": {},
   "outputs": [
    {
     "data": {
      "text/plain": [
       "array([[ 4,  6, 10, 14],\n",
       "       [13, 16, 22, 26],\n",
       "       [25, 32, 36, 44],\n",
       "       [43, 46, 52, 60],\n",
       "       [61, 64, 72, 78]])"
      ]
     },
     "execution_count": 112,
     "metadata": {},
     "output_type": "execute_result"
    }
   ],
   "source": [
    "# your code here\n",
    "arr_2d + arr_1d[:4]"
   ]
  },
  {
   "cell_type": "markdown",
   "metadata": {},
   "source": [
    "9. Add the array of the last 5 elements of `arr_1d` to each column of `arr_2d`."
   ]
  },
  {
   "cell_type": "code",
   "execution_count": 116,
   "metadata": {},
   "outputs": [
    {
     "data": {
      "text/plain": [
       "array([[ 55,  56,  58,  60],\n",
       "       [ 70,  72,  76,  78],\n",
       "       [ 84,  90,  92,  98],\n",
       "       [108, 110, 114, 120],\n",
       "       [130, 132, 138, 142]])"
      ]
     },
     "execution_count": 116,
     "metadata": {},
     "output_type": "execute_result"
    }
   ],
   "source": [
    "# your code here\n",
    "arr_2d + arr_1d[-5:].reshape((5, 1))"
   ]
  },
  {
   "cell_type": "markdown",
   "metadata": {},
   "source": [
    "10. Create the new 2-D array of shape (5,5), denoted `arr_2d_new,` by appending the array of the 5 elements starting from the element at the 7_th index to `arr_2d`"
   ]
  },
  {
   "cell_type": "code",
   "execution_count": 130,
   "metadata": {},
   "outputs": [
    {
     "data": {
      "text/plain": [
       "array([[ 2,  3,  5,  7, 19],\n",
       "       [11, 13, 17, 19, 23],\n",
       "       [23, 29, 31, 37, 29],\n",
       "       [41, 43, 47, 53, 31],\n",
       "       [59, 61, 67, 71, 37]])"
      ]
     },
     "execution_count": 130,
     "metadata": {},
     "output_type": "execute_result"
    }
   ],
   "source": [
    "# your code here\n",
    "\n",
    "# 7_th index: 19\n",
    "arr_2d_new = np.hstack((arr_2d, arr_1d[7:12].reshape(5, 1)))\n",
    "arr_2d_new"
   ]
  },
  {
   "cell_type": "markdown",
   "metadata": {},
   "source": [
    "10. Compute the row-wise sum of `arr_2d_new`"
   ]
  },
  {
   "cell_type": "code",
   "execution_count": 137,
   "metadata": {},
   "outputs": [
    {
     "data": {
      "text/plain": [
       "array([136, 149, 167, 187, 139])"
      ]
     },
     "execution_count": 137,
     "metadata": {},
     "output_type": "execute_result"
    }
   ],
   "source": [
    "# your code here\n",
    "np.sum(arr_2d_new, axis=0)"
   ]
  },
  {
   "cell_type": "markdown",
   "metadata": {},
   "source": [
    "11. Compute the column-wise sum of `arr_2d_new`"
   ]
  },
  {
   "cell_type": "code",
   "execution_count": 138,
   "metadata": {},
   "outputs": [
    {
     "data": {
      "text/plain": [
       "array([ 36,  83, 149, 215, 295])"
      ]
     },
     "execution_count": 138,
     "metadata": {},
     "output_type": "execute_result"
    }
   ],
   "source": [
    "# your code here\n",
    "np.sum(arr_2d_new, axis=1)"
   ]
  },
  {
   "cell_type": "markdown",
   "metadata": {},
   "source": [
    "## Q2. Approximation of the Sine Functions\n",
    "\n",
    "It is well known that the sine function can be approximated by the infinite order of the Maclaurin series: $$\\sin{x} = x - \\dfrac{x^3}{3!} + \\dfrac{x^5}{5!} - \\dfrac{x^7}{7!} \\cdots = \\sum_{n=0}^{\\infty } \\dfrac {(-1)^n}{(2n+1)!} x^{2n+1}$$\n"
   ]
  },
  {
   "cell_type": "markdown",
   "metadata": {},
   "source": [
    "1. Write a **lambda function** to approximate $\\sin{x}$ with the $N^{th}$ order Maclaurin series.\n"
   ]
  },
  {
   "cell_type": "code",
   "execution_count": 167,
   "metadata": {},
   "outputs": [],
   "source": [
    "# your code here\n",
    "\n",
    "import math\n",
    "\n",
    "# Nth order is the number of terms (3th order: the number of terms is 3)\n",
    "sin_approx = lambda x, n: sum((-1)**i * x**(2*i+1) / math.factorial(2*i+1) for i in range(n))"
   ]
  },
  {
   "cell_type": "markdown",
   "metadata": {},
   "source": [
    "2. Set $N=5$ and compute $\\sin{x}$ where $x$ is eqeually spaced array of 50 numbers in the interval $[-2\\pi, 2\\pi]$."
   ]
  },
  {
   "cell_type": "code",
   "execution_count": 312,
   "metadata": {},
   "outputs": [
    {
     "data": {
      "text/plain": [
       "array([-11.89956653,  -7.40645458,  -4.3402248 ,  -2.28369224,\n",
       "        -0.93796264,  -0.09191445,   0.4019134 ,   0.64601469,\n",
       "         0.71207816,   0.65141337,   0.50234616,   0.2952053 ,\n",
       "         0.05544337,  -0.19464027,  -0.43517531,  -0.64866149,\n",
       "        -0.82030063,  -0.93850104,  -0.99538591,  -0.98718287,\n",
       "        -0.91441274,  -0.78183149,  -0.59811053,  -0.375267  ,\n",
       "        -0.12787716,   0.12787716,   0.375267  ,   0.59811053,\n",
       "         0.78183149,   0.91441274,   0.98718287,   0.99538591,\n",
       "         0.93850104,   0.82030063,   0.64866149,   0.43517531,\n",
       "         0.19464027,  -0.05544337,  -0.2952053 ,  -0.50234616,\n",
       "        -0.65141337,  -0.71207816,  -0.64601469,  -0.4019134 ,\n",
       "         0.09191445,   0.93796264,   2.28369224,   4.3402248 ,\n",
       "         7.40645458,  11.89956653])"
      ]
     },
     "execution_count": 312,
     "metadata": {},
     "output_type": "execute_result"
    }
   ],
   "source": [
    "# your code here\n",
    "\n",
    "# x is eqeually spaced array of 50 numbers in the interval [−2𝜋,2𝜋]\n",
    "x_value = np.linspace(-2*np.pi, 2*np.pi, 50)\n",
    "\n",
    "sin_approx(x_value, 5)"
   ]
  },
  {
   "cell_type": "markdown",
   "metadata": {},
   "source": [
    "3. Compute the approximation errors for the function that you wrote above by comparing the values from your function and those from the sine function in the Numpy library."
   ]
  },
  {
   "cell_type": "code",
   "execution_count": 313,
   "metadata": {},
   "outputs": [
    {
     "data": {
      "text/plain": [
       "array([1.18995665e+01, 7.66010916e+00, 4.83094235e+00, 2.97937479e+00,\n",
       "       1.79310540e+00, 1.05058230e+00, 5.97572818e-01, 3.28913222e-01,\n",
       "       1.74521149e-01, 8.88646231e-02, 4.31887459e-02, 1.99029149e-02,\n",
       "       8.62685053e-03, 3.48163967e-03, 1.29157192e-03, 4.33094950e-04,\n",
       "       1.28372737e-04, 3.26159230e-05, 6.79736040e-06, 1.08758665e-06,\n",
       "       1.20125021e-07, 7.59458829e-09, 1.88015048e-10, 6.83231249e-13,\n",
       "       0.00000000e+00, 2.77555756e-17, 6.83231249e-13, 1.88015048e-10,\n",
       "       7.59458829e-09, 1.20125020e-07, 1.08758665e-06, 6.79736040e-06,\n",
       "       3.26159230e-05, 1.28372737e-04, 4.33094950e-04, 1.29157192e-03,\n",
       "       3.48163967e-03, 8.62685053e-03, 1.99029149e-02, 4.31887459e-02,\n",
       "       8.88646231e-02, 1.74521149e-01, 3.28913222e-01, 5.97572818e-01,\n",
       "       1.05058230e+00, 1.79310540e+00, 2.97937479e+00, 4.83094235e+00,\n",
       "       7.66010916e+00, 1.18995665e+01])"
      ]
     },
     "execution_count": 313,
     "metadata": {},
     "output_type": "execute_result"
    }
   ],
   "source": [
    "# your code here\n",
    "\n",
    "# 2-2의 변수 x_value와 N=5 그대로 사용\n",
    "np.abs(sin_approx(x_value, 5) - np.sin(x_value))"
   ]
  },
  {
   "cell_type": "markdown",
   "metadata": {},
   "source": [
    "4. Write the Python code to find $N$ that makes the maximum approximation error of your function for $x\\in [-2\\pi, 2\\pi]$ less than 1.0e-10."
   ]
  },
  {
   "cell_type": "code",
   "execution_count": 314,
   "metadata": {},
   "outputs": [
    {
     "data": {
      "text/plain": [
       "16"
      ]
     },
     "execution_count": 314,
     "metadata": {},
     "output_type": "execute_result"
    }
   ],
   "source": [
    "# your code here\n",
    "\n",
    "# 2-2의 변수 x_value 그대로 사용\n",
    "N = 1\n",
    "while True:\n",
    "    approx_errors = np.abs(sin_approx(x_value, N) - np.sin(x_value))\n",
    "    if max(approx_errors) < 1.0e-10:\n",
    "        break\n",
    "    N += 1\n",
    "    \n",
    "N"
   ]
  },
  {
   "cell_type": "markdown",
   "metadata": {},
   "source": [
    "## Q3. Geometric and Harmonic Means"
   ]
  },
  {
   "cell_type": "markdown",
   "metadata": {},
   "source": [
    "1. Look up the definitioin of `geometric` and `harmonic` means and write two lambda functions to compute those using their definitions."
   ]
  },
  {
   "cell_type": "code",
   "execution_count": 364,
   "metadata": {},
   "outputs": [],
   "source": [
    "# your code here\n",
    "geometric = lambda x: np.exp(np.log(x).mean())\n",
    "harmonic = lambda x: 1/np.mean(1/x)"
   ]
  },
  {
   "cell_type": "markdown",
   "metadata": {},
   "source": [
    "2. Generate a 1-d Numpy array $X$ of 100 random integers."
   ]
  },
  {
   "cell_type": "code",
   "execution_count": 365,
   "metadata": {},
   "outputs": [],
   "source": [
    "# your code here\n",
    "# 1이상 100이하 100개의 임의의 정수\n",
    "X_1d = np.random.randint(1,100, size=100)"
   ]
  },
  {
   "cell_type": "markdown",
   "metadata": {},
   "source": [
    "3. Using the functions that you wrote above, compute the geometric and harmonic means of the array $X$."
   ]
  },
  {
   "cell_type": "code",
   "execution_count": 366,
   "metadata": {},
   "outputs": [
    {
     "name": "stdout",
     "output_type": "stream",
     "text": [
      "36.41143603966634 18.052332748910608\n"
     ]
    }
   ],
   "source": [
    "# your code here\n",
    "print(geometric(X_1d), harmonic(X_1d))"
   ]
  },
  {
   "cell_type": "markdown",
   "metadata": {},
   "source": [
    "4. There are aleady functions to compute the geometric and harmonic means in the `statistics` library. Use these functions, compute the geometric and harmonic means again and compare the results with those from your functions."
   ]
  },
  {
   "cell_type": "code",
   "execution_count": 367,
   "metadata": {},
   "outputs": [
    {
     "name": "stdout",
     "output_type": "stream",
     "text": [
      "36.41143603966632 18.052332748910608\n"
     ]
    }
   ],
   "source": [
    "import statistics \n",
    "\n",
    "# your code here\n",
    "print(statistics.geometric_mean(X_1d), statistics.harmonic_mean(X_1d))"
   ]
  },
  {
   "cell_type": "markdown",
   "metadata": {},
   "source": [
    "## Q4. Simulation for Linear Regression\n",
    "\n",
    "Suppose that the true relationship between the dependent variable ($y$) and three explanatory variables ($X_1$, $X_2$ and $X_3$) are given as follows: $$ y_t = 2 + 4 X_{1,t}  + 6 X_{2,t}  + 8 X_{3,t} + \\epsilon_t,$$ where $\\epsilon \\sim N(0, 0.04)$ and  $t = 1, 2, \\cdots, T$. This relationship can be written in matrix form: $\\mathbf{y} = \\mathbf{X}\\beta$, where $\\mathbf{y} = (y_1, y_2, \\cdots, y_T)'$, $\\mathbf{X} = (\\mathbf{1}, \\mathbf{X}_{1}, \\mathbf{X}_{2}, \\mathbf{X}_{3})$ and $\\beta = (2,4,6,8)'$.\n",
    "\n",
    "The economist does not know the true relationship but only has dataset of ($X, y$) and wants to figure out the relationship between $X$ and $y$ based on linear models. The Ordinary Least Squares (OLS) estimates of the coefficients is $$\\hat{\\beta} = (\\mathbf{X'}\\mathbf{X})^{-1}\\mathbf{X'}\\mathbf{y}$$\n"
   ]
  },
  {
   "cell_type": "markdown",
   "metadata": {},
   "source": [
    "1. Create the matrix ($\\mathbf{X}$) of explanatory variables assuing that:\n",
    "  - the first column contains 100 ones.\n",
    "  - the second column contains 100 numbers from $N(2, 5)$\n",
    "  - the third column contains 100 numbers from $N(3, 3)$\n",
    "  - the fourth column contains 100 numbers from $N(5, 2)$\n",
    "\n",
    "  Check whether explanatory variables are created as specified."
   ]
  },
  {
   "cell_type": "code",
   "execution_count": 456,
   "metadata": {},
   "outputs": [
    {
     "data": {
      "text/plain": [
       "array([[  1.        ,  10.70839829,   5.11438799,   5.75381733],\n",
       "       [  1.        ,   1.36613564,   2.96314997,   3.38184657],\n",
       "       [  1.        ,   4.87141436,   5.54203666,   3.94591982],\n",
       "       [  1.        ,  -3.26501679,   2.2608566 ,   3.1703614 ],\n",
       "       [  1.        ,  -1.49499276,  -0.05678148,   3.52214983],\n",
       "       [  1.        ,  -0.0590788 ,   3.35358826,   5.88037866],\n",
       "       [  1.        ,  -0.19243497,   2.06191986,   6.00114948],\n",
       "       [  1.        ,   0.08950288,   1.05934039,   7.78011075],\n",
       "       [  1.        ,   2.43652141,   0.80779868,   4.19241433],\n",
       "       [  1.        ,   3.91444448,   4.31486578,   3.39458901],\n",
       "       [  1.        ,  -5.50702061,   1.16332111,   0.8906082 ],\n",
       "       [  1.        ,  -1.70496117,  -0.55507197,  10.00409069],\n",
       "       [  1.        ,  12.41587053,   0.40259699,   4.13864891],\n",
       "       [  1.        ,   5.72142605,   1.39798357,   4.76645191],\n",
       "       [  1.        ,   2.27115356,   4.03812356,   7.82342974],\n",
       "       [  1.        ,   9.98744126,   1.34492441,   4.37570776],\n",
       "       [  1.        ,   4.38636987,   3.88370784,   5.37743314],\n",
       "       [  1.        ,   2.40961852,   5.22066642,   5.91823016],\n",
       "       [  1.        ,   6.45748314,   2.00186601,   7.55585563],\n",
       "       [  1.        ,  -5.42131988,   6.29407883,   4.56809428],\n",
       "       [  1.        ,  -0.02899956,   4.51779067,   6.85188725],\n",
       "       [  1.        ,   3.95269371,   4.88452665,   6.50402351],\n",
       "       [  1.        ,   3.96468056,   6.4130413 ,   6.23476762],\n",
       "       [  1.        ,  -1.52327132,   0.09982291,   5.34297284],\n",
       "       [  1.        ,  -2.31435822,  -0.20885105,   5.96746207],\n",
       "       [  1.        ,   3.05777999,   3.76372693,   2.3126224 ],\n",
       "       [  1.        ,  -1.83198139,  -1.447109  ,   3.64615536],\n",
       "       [  1.        ,  -2.56595538,  -0.69934073,   6.28396299],\n",
       "       [  1.        ,   6.37126381,   0.56974618,   6.92395951],\n",
       "       [  1.        ,  -1.54476063,   0.53941386,   2.96196741],\n",
       "       [  1.        ,   4.4719607 ,   6.00114823,   0.73850476],\n",
       "       [  1.        ,   5.01117029,   5.23377535,   8.61874324],\n",
       "       [  1.        ,   2.00076446,  -0.9079668 ,   4.44018086],\n",
       "       [  1.        ,  -0.50929447,   3.15344935,   6.54299842],\n",
       "       [  1.        ,  -4.14480584,  -2.35105979,   2.37861279],\n",
       "       [  1.        ,   3.79873729,   1.26961875,   7.39263441],\n",
       "       [  1.        ,  -0.0732254 ,  -0.50200861,   4.78628373],\n",
       "       [  1.        ,  -6.54631641,  -0.73253924,   3.74057465],\n",
       "       [  1.        ,   4.37458766,   6.87980187,   5.09825997],\n",
       "       [  1.        ,  -3.26948832,   2.10102096,   8.1820227 ],\n",
       "       [  1.        ,   0.68153432,   2.55982919,   6.27110134],\n",
       "       [  1.        ,   1.57803178,   3.40267412,   5.93355755],\n",
       "       [  1.        ,  10.12589763,   1.25881921,   3.55675999],\n",
       "       [  1.        ,   1.11191605,   4.66944875,   6.30349426],\n",
       "       [  1.        ,  -1.40081156,   2.9019785 ,   4.24324467],\n",
       "       [  1.        ,   0.77240727,  -0.697286  ,   7.19451756],\n",
       "       [  1.        ,   1.82611671,   7.29269254,   5.2818951 ],\n",
       "       [  1.        ,   1.90418689,   6.99443826,   2.50368182],\n",
       "       [  1.        ,   5.64444191,   4.51189867,   4.26866467],\n",
       "       [  1.        ,   0.42155822,   1.58602744,   5.99292123],\n",
       "       [  1.        ,  -3.06303475,   2.76243492,   1.79377   ],\n",
       "       [  1.        ,   2.48145052,   2.44052416,   5.7083951 ],\n",
       "       [  1.        ,   1.88216619,   6.40275277,   2.8323089 ],\n",
       "       [  1.        ,   3.81113804,   2.45232251,   0.04657971],\n",
       "       [  1.        ,  -0.89650635,  -0.98478593,   3.51628683],\n",
       "       [  1.        ,  -1.51422071,   6.0430495 ,   2.8814658 ],\n",
       "       [  1.        ,  -0.38053237,   1.70481863,   3.86714668],\n",
       "       [  1.        ,  -3.89841211,  -0.19086423,   3.97033279],\n",
       "       [  1.        ,   4.68390908,  -2.4486115 ,   5.44979122],\n",
       "       [  1.        ,  -7.08421596,   1.58096907,   6.52682162],\n",
       "       [  1.        ,  -0.78635807,  -2.54848415,   5.94784329],\n",
       "       [  1.        ,   2.0572765 ,   5.1838865 ,   4.00515415],\n",
       "       [  1.        ,  -1.99766091,   3.09493221,   1.56071722],\n",
       "       [  1.        ,   7.7700367 ,   4.56250162,   7.61070325],\n",
       "       [  1.        ,   3.49094213,   1.52274182,   5.06409908],\n",
       "       [  1.        ,   2.84917689,   3.94799   ,   7.2002103 ],\n",
       "       [  1.        ,   7.84498706,   0.43097601,   6.37997958],\n",
       "       [  1.        ,  -1.39797891,  -0.4585553 ,   2.14330014],\n",
       "       [  1.        ,  -3.27709369,  -0.88874197,   4.50617798],\n",
       "       [  1.        ,   6.67671532,   6.88754809,   5.17967548],\n",
       "       [  1.        ,   2.154326  ,   5.63132883,   3.31835389],\n",
       "       [  1.        ,   4.19020795,   3.16639065,   5.44803064],\n",
       "       [  1.        ,  -1.88775127,  -0.30718941,   6.064323  ],\n",
       "       [  1.        ,   5.09651823,   1.60398968,   7.59102037],\n",
       "       [  1.        ,   5.42002274,   3.02168232,   5.47447695],\n",
       "       [  1.        ,  -3.77181288,   1.14067834,   6.94114429],\n",
       "       [  1.        ,  -1.27885514,  -2.36316718,   3.46659299],\n",
       "       [  1.        ,   4.85854462,   4.37165834,   4.17284429],\n",
       "       [  1.        ,  -0.26543144,   4.77058196,   4.0984736 ],\n",
       "       [  1.        ,   2.88675848,   1.97922488,   3.23266376],\n",
       "       [  1.        ,  -0.64863208,   4.38603037,   7.51072475],\n",
       "       [  1.        ,  -2.60615169,   0.65128477,   8.11662239],\n",
       "       [  1.        , -15.92144359,   5.18849793,   5.54044811],\n",
       "       [  1.        ,   3.32479276,   1.69565238,   4.09920849],\n",
       "       [  1.        ,  -3.71528939,   4.8276423 ,   2.86014418],\n",
       "       [  1.        ,  -3.42038425,   0.49852582,   3.02510661],\n",
       "       [  1.        ,   1.93797497,   1.19235581,   1.40615995],\n",
       "       [  1.        ,  -0.71143666,   7.87695593,   3.43348618],\n",
       "       [  1.        ,  15.42559761,   1.8209281 ,   4.36331633],\n",
       "       [  1.        ,   7.69639986,  -1.56797695,   7.17326961],\n",
       "       [  1.        ,  -3.44652632,  -1.84275891,   4.66706909],\n",
       "       [  1.        ,  -0.54967746,  -1.78472012,   6.59077379],\n",
       "       [  1.        ,  -0.22969433,   0.47240759,   3.64667603],\n",
       "       [  1.        ,  12.32871189,   3.87552797,   7.49245633],\n",
       "       [  1.        ,   5.8241739 ,  -1.48120479,   3.60627796],\n",
       "       [  1.        ,  -1.10580216,  -0.62916653,   2.5031969 ],\n",
       "       [  1.        ,  -5.50867979,  -2.88882575,   4.87070492],\n",
       "       [  1.        ,   4.37890812,   2.55730167,   2.4105831 ],\n",
       "       [  1.        ,   4.28681529,   3.41549842,   4.36767197],\n",
       "       [  1.        ,   2.09265775,   1.85675453,   5.22036968]])"
      ]
     },
     "execution_count": 456,
     "metadata": {},
     "output_type": "execute_result"
    }
   ],
   "source": [
    "# your code here\n",
    "X_2d = np.hstack((np.ones((100,1)), np.random.normal(2, 5, (100,1)), np.random.normal(3, 3, (100,1)), np.random.normal(5, 2, (100,1))))\n",
    "X_2d"
   ]
  },
  {
   "cell_type": "markdown",
   "metadata": {},
   "source": [
    "  2. Create the vector of dependent variable ($\\mathbf{y}$) using the true relationship above."
   ]
  },
  {
   "cell_type": "code",
   "execution_count": 457,
   "metadata": {},
   "outputs": [
    {
     "data": {
      "text/plain": [
       "array([121.59965843,  52.24970442,  86.30397885,  27.75352869,\n",
       "        23.76697799,  68.92538271,  61.5331    ,  70.95410485,\n",
       "        50.07662938,  70.71823087,  -5.84915226,  71.85046174,\n",
       "        87.2521658 ,  71.367532  ,  97.87914471,  85.04435938,\n",
       "        85.77703085,  90.28435498, 100.32925774,  54.63669544,\n",
       "        83.83138507,  99.19681491, 106.21653423,  39.2726162 ,\n",
       "        39.27374702,  55.3056382 ,  15.17779021,  37.77309093,\n",
       "        86.28174535,  22.82096542,  61.83429898, 122.41871795,\n",
       "        40.01183595,  71.22037906,  -9.66882536,  83.93101777,\n",
       "        37.02022013,   1.34605859, 101.60945993,  67.00612865,\n",
       "        70.26239539,  76.28132687,  78.48275581,  84.9385153 ,\n",
       "        47.69264714,  58.43580757,  95.3278247 ,  71.61570146,\n",
       "        85.79272333,  61.14154086,  20.72989349,  72.31977653,\n",
       "        70.60817795,  32.24465976,  20.6284741 ,  55.22156776,\n",
       "        41.59781364,  17.03477294,  49.6018905 ,  35.31658386,\n",
       "        31.23243332,  73.34945614,  25.0191643 , 121.40296066,\n",
       "        65.59289485,  94.65294138,  87.02763061,  10.77816126,\n",
       "        19.59808011, 111.39611641,  71.00912551,  81.39448728,\n",
       "        41.10619842,  92.73745683,  85.57089204,  49.26954049,\n",
       "        10.41532498,  81.10296397,  62.33149651,  51.34071749,\n",
       "        85.83378846,  60.35923648,  13.75619341,  58.23623126,\n",
       "        38.98081159,  15.55223966,  28.09968957,  73.87937215,\n",
       "       109.52847572,  80.72975878,  14.50207254,  41.74691078,\n",
       "        33.16367163, 134.54623347,  45.29869514,  13.83342469,\n",
       "         1.58161834,  54.18092483,  74.55263439,  63.30591352])"
      ]
     },
     "execution_count": 457,
     "metadata": {},
     "output_type": "execute_result"
    }
   ],
   "source": [
    "# your code here\n",
    "y = np.dot(X_2d, np.array([2,4,6,8])) + np.random.normal(0, 0.04, 100)\n",
    "y"
   ]
  },
  {
   "cell_type": "markdown",
   "metadata": {},
   "source": [
    "3. Compute the estimates of coefficients."
   ]
  },
  {
   "cell_type": "code",
   "execution_count": 458,
   "metadata": {},
   "outputs": [
    {
     "data": {
      "text/plain": [
       "array([1.99212044, 4.00097541, 6.00138482, 8.00041092])"
      ]
     },
     "execution_count": 458,
     "metadata": {},
     "output_type": "execute_result"
    }
   ],
   "source": [
    "# your code here\n",
    "np.linalg.inv(X_2d.T @ X_2d) @ X_2d.T @ y"
   ]
  },
  {
   "cell_type": "markdown",
   "metadata": {},
   "source": [
    "4. From the OLS equation, the estimates of the coefficients, $\\hat{\\beta}$, can be interprested as the solution to a linear equation system. Write the linear equation system and `solve` for it.   "
   ]
  },
  {
   "cell_type": "markdown",
   "metadata": {},
   "source": [
    "$$\\mathbf{X'}\\mathbf{y} = (\\mathbf{X'}\\mathbf{X})\\hat{\\beta}$$"
   ]
  },
  {
   "cell_type": "code",
   "execution_count": 459,
   "metadata": {},
   "outputs": [
    {
     "data": {
      "text/plain": [
       "array([1.99212044, 4.00097541, 6.00138482, 8.00041092])"
      ]
     },
     "execution_count": 459,
     "metadata": {},
     "output_type": "execute_result"
    }
   ],
   "source": [
    "# your code here\n",
    "beta = np.linalg.solve((X_2d.T @ X_2d), (X_2d.T @ y))\n",
    "beta"
   ]
  },
  {
   "cell_type": "markdown",
   "metadata": {},
   "source": [
    "5. Suppose that the economist thinks that the explanaroty bariable $X_3$ is not important for the dependent variable. Hence she drop that variable from her estimation equation. Compute the estimates $\\tilde{\\beta}$ with this specification and explain how $\\tilde{\\beta}$ compare with $\\hat{\\beta}$."
   ]
  },
  {
   "cell_type": "code",
   "execution_count": 464,
   "metadata": {},
   "outputs": [
    {
     "data": {
      "text/plain": [
       "array([41.14312194,  4.40755452,  5.68635714])"
      ]
     },
     "execution_count": 464,
     "metadata": {},
     "output_type": "execute_result"
    }
   ],
   "source": [
    "# your code here\n",
    "new_X_2d = X_2d[:,:3]\n",
    "new_beta = np.linalg.solve((new_X_2d.T @ new_X_2d), (new_X_2d.T @ y))\n",
    "new_beta"
   ]
  },
  {
   "cell_type": "markdown",
   "metadata": {},
   "source": [
    "#### 변수 $ \\mathbf{X}_{3}$을 drop할 경우의 $\\tilde{\\beta}$ 값은 약 (41.1, 4.4, 5.7)인 반면, $\\hat{\\beta}$ 값은 약 (2.0, 4.0, 6.0, 8.0)이다. $\\tilde{\\beta}$ 값에 $ \\mathbf{X}_{3}$ 계수가 없는 대신에 $\\hat{\\beta}$ 값보다 상대적으로 상수항 값이 훨씬 크며, $\\tilde{\\beta}$ 의 $ \\mathbf{X}_{1}$ 계수와 $ \\mathbf{X}_{2}$ 계수도 0.5 정도의 오차를 보이며 $\\hat{\\beta}$ 값보다 다소 부정확하다는 것을 알 수 있다"
   ]
  },
  {
   "cell_type": "markdown",
   "metadata": {},
   "source": [
    "6. The economist is not intested in the constant term. Hence she converted her estimation model to the form of deviations from means:  $$y - \\bar{y} = \\left(\\mathbf{X}-\\mathbf{\\bar{X}} \\right) \\gamma,$$ where $\\bar{\\mathbf{y}}$ and $\\bar{\\mathbf{X}}$ are the means of $\\mathbf{y}$ and $\\mathbf{X}$ respectively. Write down the OLS estimates for $\\gamma$, compute $\\hat{\\gamma}$ and compare $\\hat{\\gamma}$ and $\\hat{\\beta}$."
   ]
  },
  {
   "cell_type": "code",
   "execution_count": 510,
   "metadata": {},
   "outputs": [
    {
     "data": {
      "text/plain": [
       "array([11.0576043 ,  4.00097541,  6.00138482,  8.00041092])"
      ]
     },
     "execution_count": 510,
     "metadata": {},
     "output_type": "execute_result"
    }
   ],
   "source": [
    "# your code here\n",
    "X_dev = X_2d - np.mean(X_2d)\n",
    "y_dev = y - np.mean(y)\n",
    "\n",
    "gamma = np.linalg.solve(X_dev.T @ X_dev, X_dev.T @ y_dev)\n",
    "gamma"
   ]
  },
  {
   "cell_type": "markdown",
   "metadata": {},
   "source": [
    "#### $\\hat{\\gamma}$ 값은 약 (11.0, 4.0, 6.0, 8.0)인 반면에 $\\hat{\\beta}$ 값은 약 (2.0, 4.0, 6.0, 8.0)다. $\\hat{\\gamma}$ 값은 $\\hat{\\beta}$ 값보다 상대적으로 상수항 값이 크며, $ \\mathbf{X}_{1}$ 계수, $ \\mathbf{X}_{2}$ 계수, $ \\mathbf{X}_{3}$ 계수에 있어서는 $\\hat{\\beta}$ 와 큰 차이를 보이지 않을 정도로 높은 정확도를 보인다"
   ]
  },
  {
   "cell_type": "code",
   "execution_count": null,
   "metadata": {},
   "outputs": [],
   "source": []
  }
 ],
 "metadata": {
  "kernelspec": {
   "display_name": "Python 3 (ipykernel)",
   "language": "python",
   "name": "python3"
  },
  "language_info": {
   "codemirror_mode": {
    "name": "ipython",
    "version": 3
   },
   "file_extension": ".py",
   "mimetype": "text/x-python",
   "name": "python",
   "nbconvert_exporter": "python",
   "pygments_lexer": "ipython3",
   "version": "3.9.12"
  }
 },
 "nbformat": 4,
 "nbformat_minor": 2
}
