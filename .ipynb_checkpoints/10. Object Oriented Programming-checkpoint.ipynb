{
 "cells": [
  {
   "cell_type": "markdown",
   "metadata": {
    "id": "QIBoa7EpoS-4"
   },
   "source": [
    "# Object Oriented Programming"
   ]
  },
  {
   "cell_type": "markdown",
   "metadata": {
    "id": "ZNV9aKrqoS-5"
   },
   "source": [
    "Object Oriented Programming, OOP in short, is one of the major paradigms in programming.\n",
    "\n",
    "The traditional programming paradigm (Fortran, C, MATLAB, etc.) is called *procedural*.\n",
    "\n",
    "It works as follows\n",
    "\n",
    "- The program has a state corresponding to the values of its variables.  \n",
    "- Functions are called to act on these data.\n",
    "- Data are passed back and forth via function calls.  \n",
    "\n",
    "In contrast, in the OOP paradigm\n",
    "\n",
    "- Data and functions are “bundled together” into “objects”  \n",
    "- Functions in this context are referred to as **methods**\n",
    "\n",
    "Python is object-oriented fundamentally. \n",
    "\n",
    "- In particular, in Python, *everything is an object*.\n",
    "- However, Python is a pragmatic language that blends object-oriented and procedural styles"
   ]
  },
  {
   "cell_type": "markdown",
   "metadata": {
    "id": "dqGHU8wkoS-6"
   },
   "source": [
    "## Objects\n",
    "\n",
    "In Python, an *object* is a collection of data and instructions held in computer memory that consists of\n",
    "\n",
    "1. a type  \n",
    "1. a unique identity  \n",
    "1. data (i.e., content)  \n",
    "1. methods  \n",
    "\n",
    "We have already seen and used all of the above in this course. Hence we only briefly review these here."
   ]
  },
  {
   "cell_type": "markdown",
   "metadata": {
    "id": "r1AtI2oBoS-6"
   },
   "source": [
    "### Type\n",
    "\n",
    "Python provides for different types of objects, to accommodate different categories of data.\n",
    "\n",
    "Python is *strongly typed*: If the types of objects in an operation do not match, Python will respond instead by raising a `TypeError`."
   ]
  },
  {
   "cell_type": "markdown",
   "metadata": {
    "id": "krd4HvsroS-7"
   },
   "source": [
    "### Identity\n",
    "\n",
    "In Python, each object has a unique identifier, which helps Python (and us) keep track of the object. The identity of an object is in fact just the address of the object in memory."
   ]
  },
  {
   "cell_type": "code",
   "execution_count": 1,
   "metadata": {
    "colab": {
     "base_uri": "https://localhost:8080/"
    },
    "executionInfo": {
     "elapsed": 7,
     "status": "ok",
     "timestamp": 1677045986024,
     "user": {
      "displayName": "Sun-Bin Kim",
      "userId": "12259624877743564730"
     },
     "user_tz": -540
    },
    "hide-output": false,
    "id": "Os_tYHkSoS-7",
    "outputId": "a69eb976-bf9a-49ad-ddad-0b5436e54808"
   },
   "outputs": [
    {
     "data": {
      "text/plain": [
       "140358599521712"
      ]
     },
     "execution_count": 1,
     "metadata": {},
     "output_type": "execute_result"
    }
   ],
   "source": [
    "y = 2.5\n",
    "z = 2.5\n",
    "id(y)"
   ]
  },
  {
   "cell_type": "code",
   "execution_count": 2,
   "metadata": {
    "colab": {
     "base_uri": "https://localhost:8080/"
    },
    "executionInfo": {
     "elapsed": 355,
     "status": "ok",
     "timestamp": 1677045997029,
     "user": {
      "displayName": "Sun-Bin Kim",
      "userId": "12259624877743564730"
     },
     "user_tz": -540
    },
    "hide-output": false,
    "id": "oaw6s1L1oS-8",
    "outputId": "50883e60-ac50-41bd-9dba-7e696750476d"
   },
   "outputs": [
    {
     "data": {
      "text/plain": [
       "140358599520624"
      ]
     },
     "execution_count": 2,
     "metadata": {},
     "output_type": "execute_result"
    }
   ],
   "source": [
    "id(z)"
   ]
  },
  {
   "cell_type": "markdown",
   "metadata": {
    "id": "1l_0KySAoS-8"
   },
   "source": [
    "In this example, `y` and `z` happen to have the same value (i.e., `2.5`), but they are not the same object."
   ]
  },
  {
   "cell_type": "markdown",
   "metadata": {
    "id": "fhptPyi_oS-8"
   },
   "source": [
    "### Content: Data and Attributes\n",
    "\n",
    "If we set `x = 42` then we create an object of type `int` that contains the data `42`. In fact, it contains more, as the following example shows."
   ]
  },
  {
   "cell_type": "code",
   "execution_count": 3,
   "metadata": {
    "colab": {
     "base_uri": "https://localhost:8080/"
    },
    "executionInfo": {
     "elapsed": 529,
     "status": "ok",
     "timestamp": 1677046026388,
     "user": {
      "displayName": "Sun-Bin Kim",
      "userId": "12259624877743564730"
     },
     "user_tz": -540
    },
    "hide-output": false,
    "id": "hU3IzXZjoS-8",
    "outputId": "b6ffef83-69e4-479f-c4fe-180e99d0dd5e"
   },
   "outputs": [
    {
     "data": {
      "text/plain": [
       "42"
      ]
     },
     "execution_count": 3,
     "metadata": {},
     "output_type": "execute_result"
    }
   ],
   "source": [
    "x = 42\n",
    "x"
   ]
  },
  {
   "cell_type": "code",
   "execution_count": 4,
   "metadata": {
    "colab": {
     "base_uri": "https://localhost:8080/"
    },
    "executionInfo": {
     "elapsed": 4,
     "status": "ok",
     "timestamp": 1677046027964,
     "user": {
      "displayName": "Sun-Bin Kim",
      "userId": "12259624877743564730"
     },
     "user_tz": -540
    },
    "hide-output": false,
    "id": "0h4CPUwCoS-9",
    "outputId": "30ffa889-2c15-41bc-ae85-09ae65d7ffe3"
   },
   "outputs": [
    {
     "data": {
      "text/plain": [
       "0"
      ]
     },
     "execution_count": 4,
     "metadata": {},
     "output_type": "execute_result"
    }
   ],
   "source": [
    "x.imag"
   ]
  },
  {
   "cell_type": "code",
   "execution_count": 5,
   "metadata": {
    "colab": {
     "base_uri": "https://localhost:8080/"
    },
    "executionInfo": {
     "elapsed": 501,
     "status": "ok",
     "timestamp": 1677046032210,
     "user": {
      "displayName": "Sun-Bin Kim",
      "userId": "12259624877743564730"
     },
     "user_tz": -540
    },
    "hide-output": false,
    "id": "hRPAn_BjoS-9",
    "outputId": "ea5eee5a-de50-4805-d3b3-ffd752e7203b"
   },
   "outputs": [
    {
     "data": {
      "text/plain": [
       "int"
      ]
     },
     "execution_count": 5,
     "metadata": {},
     "output_type": "execute_result"
    }
   ],
   "source": [
    "x.__class__"
   ]
  },
  {
   "cell_type": "markdown",
   "metadata": {
    "id": "cd0VTfupoS-9"
   },
   "source": [
    "When Python creates this integer object, it stores with it various auxiliary information, such as the imaginary part, and the type. Any name following a dot is called an *attribute* of the object to the left of the dot.\n",
    "\n",
    "- e.g.,`imag` and `__class__` are attributes of `x`.  \n",
    "\n",
    "\n",
    "We see from this example that objects have attributes that contain auxiliary information."
   ]
  },
  {
   "cell_type": "markdown",
   "metadata": {
    "id": "_NM7GVo_oS-9"
   },
   "source": [
    "### Methods\n",
    "\n",
    "Methods are *functions that are bundled with objects*. Formally, methods are attributes of objects that are callable (i.e., can be called as functions)"
   ]
  },
  {
   "cell_type": "code",
   "execution_count": 6,
   "metadata": {
    "colab": {
     "base_uri": "https://localhost:8080/"
    },
    "executionInfo": {
     "elapsed": 1076,
     "status": "ok",
     "timestamp": 1677046092119,
     "user": {
      "displayName": "Sun-Bin Kim",
      "userId": "12259624877743564730"
     },
     "user_tz": -540
    },
    "hide-output": false,
    "id": "ZhxS2wInoS-9",
    "outputId": "e4bad836-1153-4900-a1f8-a0ce570d27ac"
   },
   "outputs": [
    {
     "data": {
      "text/plain": [
       "True"
      ]
     },
     "execution_count": 6,
     "metadata": {},
     "output_type": "execute_result"
    }
   ],
   "source": [
    "x = ['foo', 'bar']\n",
    "callable(x.append)"
   ]
  },
  {
   "cell_type": "code",
   "execution_count": 7,
   "metadata": {
    "colab": {
     "base_uri": "https://localhost:8080/"
    },
    "executionInfo": {
     "elapsed": 295,
     "status": "ok",
     "timestamp": 1677046098369,
     "user": {
      "displayName": "Sun-Bin Kim",
      "userId": "12259624877743564730"
     },
     "user_tz": -540
    },
    "hide-output": false,
    "id": "q44vorp6oS-9",
    "outputId": "6ae6a87a-8b55-4054-8e49-9980afdb6302"
   },
   "outputs": [
    {
     "data": {
      "text/plain": [
       "False"
      ]
     },
     "execution_count": 7,
     "metadata": {},
     "output_type": "execute_result"
    }
   ],
   "source": [
    "callable(x.__doc__)"
   ]
  },
  {
   "cell_type": "code",
   "execution_count": 8,
   "metadata": {
    "colab": {
     "base_uri": "https://localhost:8080/",
     "height": 36
    },
    "executionInfo": {
     "elapsed": 373,
     "status": "ok",
     "timestamp": 1677046101923,
     "user": {
      "displayName": "Sun-Bin Kim",
      "userId": "12259624877743564730"
     },
     "user_tz": -540
    },
    "id": "KwG6pwxMoS--",
    "outputId": "86209c25-d555-4fc2-cc53-59bf358430e3"
   },
   "outputs": [
    {
     "data": {
      "text/plain": [
       "'Built-in mutable sequence.\\n\\nIf no argument is given, the constructor creates a new empty list.\\nThe argument must be an iterable if specified.'"
      ]
     },
     "execution_count": 8,
     "metadata": {},
     "output_type": "execute_result"
    }
   ],
   "source": [
    "x.__doc__"
   ]
  },
  {
   "cell_type": "markdown",
   "metadata": {
    "id": "UBJDhnyWoS--"
   },
   "source": [
    "Methods typically act on the data contained in the object they belong to, or combine that data with other data"
   ]
  },
  {
   "cell_type": "code",
   "execution_count": 9,
   "metadata": {
    "colab": {
     "base_uri": "https://localhost:8080/"
    },
    "executionInfo": {
     "elapsed": 522,
     "status": "ok",
     "timestamp": 1677046119374,
     "user": {
      "displayName": "Sun-Bin Kim",
      "userId": "12259624877743564730"
     },
     "user_tz": -540
    },
    "hide-output": false,
    "id": "AYNBwe8SoS--",
    "outputId": "4f05f3eb-99ad-4893-9001-9495c56a5447"
   },
   "outputs": [
    {
     "data": {
      "text/plain": [
       "['a', 'b', 'c']"
      ]
     },
     "execution_count": 9,
     "metadata": {},
     "output_type": "execute_result"
    }
   ],
   "source": [
    "x = ['a', 'b']\n",
    "x.append('c')\n",
    "x"
   ]
  },
  {
   "cell_type": "code",
   "execution_count": 10,
   "metadata": {
    "colab": {
     "base_uri": "https://localhost:8080/",
     "height": 36
    },
    "executionInfo": {
     "elapsed": 6,
     "status": "ok",
     "timestamp": 1677046121150,
     "user": {
      "displayName": "Sun-Bin Kim",
      "userId": "12259624877743564730"
     },
     "user_tz": -540
    },
    "id": "DEslPWkXoS--",
    "outputId": "e4070fb5-8fb6-4c32-aadd-9f408474a497"
   },
   "outputs": [
    {
     "data": {
      "text/plain": [
       "'THIS IS A STRING'"
      ]
     },
     "execution_count": 10,
     "metadata": {},
     "output_type": "execute_result"
    }
   ],
   "source": [
    "s = 'This is a string'\n",
    "s.upper()"
   ]
  },
  {
   "cell_type": "markdown",
   "metadata": {
    "id": "tkRfh3kloS--"
   },
   "source": [
    "## Summary\n",
    "\n",
    "In Python, *everything in memory is treated as an object*.\n",
    "\n",
    "This includes not just lists, strings, etc., but also less obvious things, such as\n",
    "\n",
    "- functions\n",
    "- modules\n",
    "- files opened for reading or writing  \n",
    "- integers, etc. \n",
    "\n",
    "When Python reads a function definition, it creates a **function object** and stores it in memory. Modules loaded into memory are also treated as objects.\n",
    "\n",
    "This uniform treatment of data in Python (everything is an object) helps keep the language simple and consistent."
   ]
  },
  {
   "cell_type": "markdown",
   "metadata": {
    "id": "X77rpxNNoS--"
   },
   "source": [
    "# Building Classes\n"
   ]
  },
  {
   "cell_type": "markdown",
   "metadata": {
    "id": "4qNU4XPSoS--"
   },
   "source": [
    "Now we try to build our own objects. Imagine now you want to write a program with consumers, who can\n",
    "\n",
    "- hold and spend cash  \n",
    "- consume goods\n",
    "- work and earn cash  \n",
    "\n",
    "\n",
    "A natural solution in Python would be to create consumers as objects with\n",
    "\n",
    "- data, such as `cash` on hand  \n",
    "- methods, such as `spend` or `earn` that affect this data  "
   ]
  },
  {
   "cell_type": "markdown",
   "metadata": {
    "id": "tvE1-WnloS-_"
   },
   "source": [
    "## Key Concpets\n",
    "\n",
    "Classes are blueprints that help you build objects according to your own specifications.\n",
    "\n",
    "It describes\n",
    "\n",
    "- What kind of data the class stores  \n",
    "- What methods it has for acting on these data  \n",
    "\n",
    "An  *object* or *instance* is a realization of the class, created from the blueprint\n",
    "\n",
    "- Each instance has its own unique data.  \n",
    "- Methods set out in the class definition act on this (and other) data.  \n",
    "\n",
    "In Python, the data and methods of an object are collectively referred to as *attributes*.\n",
    "\n",
    "Attributes are accessed via “dotted attribute notation”\n",
    "\n",
    "- `object_name.data_name`  \n",
    "- `object_name.method_name()`  \n"
   ]
  },
  {
   "cell_type": "markdown",
   "metadata": {
    "id": "4MxsPAppoS-_"
   },
   "source": [
    "## Example 1: Consumer behavior\n",
    "\n",
    "Let's consider the behavior of a consumer and the resulting changes in her cash holdings:\n",
    "- owns $w$ amount of cash\n",
    "- earn income $y$\n",
    "- spend $x$ on consumption"
   ]
  },
  {
   "cell_type": "markdown",
   "metadata": {
    "id": "86nrvH8HoS-_"
   },
   "source": [
    "### Precedual Pogramming\n",
    "\n",
    "The following two functions `earn` and `spend` describe the consumer's actions and keep track of the consumer's cash holdings.\n",
    "\n",
    "1. `earn` function:\n",
    "  - takes a consumer’s current cash holdings $ w $ and earnings $ y $\n",
    "  - adds $y$ to $w$ \n",
    "  - return the result as the current cash hpldings.\n",
    "2. `spend` function:\n",
    "  - takes a consumer’s current cash holdings $ w $ and spending $ x $\n",
    "  - subtract $x$ from $w$ and \n",
    "  - return the result as the current cash hpldings."
   ]
  },
  {
   "cell_type": "code",
   "execution_count": 11,
   "metadata": {
    "executionInfo": {
     "elapsed": 376,
     "status": "ok",
     "timestamp": 1677046522425,
     "user": {
      "displayName": "Sun-Bin Kim",
      "userId": "12259624877743564730"
     },
     "user_tz": -540
    },
    "hide-output": false,
    "id": "wtqBW8BnoS-_"
   },
   "outputs": [],
   "source": [
    "def earn(w,y):\n",
    "    \"Consumer with the current cash holdings w earns y\"\n",
    "    return w + y\n",
    "\n",
    "def spend(w,x):\n",
    "    \"consumer with the current cash holdings w spends x\"\n",
    "    new_wealth = w - x\n",
    "    if new_wealth < 0:\n",
    "        print(\"Insufficient funds\")\n",
    "    else:\n",
    "        return new_wealth"
   ]
  },
  {
   "cell_type": "code",
   "execution_count": 12,
   "metadata": {
    "colab": {
     "base_uri": "https://localhost:8080/"
    },
    "executionInfo": {
     "elapsed": 400,
     "status": "ok",
     "timestamp": 1677046527016,
     "user": {
      "displayName": "Sun-Bin Kim",
      "userId": "12259624877743564730"
     },
     "user_tz": -540
    },
    "hide-output": false,
    "id": "a5qUJdyjoS-_",
    "outputId": "4c166637-c3cb-410b-cfeb-63812ea3844a"
   },
   "outputs": [
    {
     "data": {
      "text/plain": [
       "110"
      ]
     },
     "execution_count": 12,
     "metadata": {},
     "output_type": "execute_result"
    }
   ],
   "source": [
    "w0=100\n",
    "w1=earn(w0,10)\n",
    "w1"
   ]
  },
  {
   "cell_type": "code",
   "execution_count": 13,
   "metadata": {
    "colab": {
     "base_uri": "https://localhost:8080/"
    },
    "executionInfo": {
     "elapsed": 4,
     "status": "ok",
     "timestamp": 1677046528193,
     "user": {
      "displayName": "Sun-Bin Kim",
      "userId": "12259624877743564730"
     },
     "user_tz": -540
    },
    "id": "QWxvRFP7oS_A",
    "outputId": "e1922f4f-7e68-467e-8085-0a3c24fc1233"
   },
   "outputs": [
    {
     "data": {
      "text/plain": [
       "90"
      ]
     },
     "execution_count": 13,
     "metadata": {},
     "output_type": "execute_result"
    }
   ],
   "source": [
    "w2=spend(w1,20)\n",
    "w2"
   ]
  },
  {
   "cell_type": "code",
   "execution_count": 14,
   "metadata": {
    "colab": {
     "base_uri": "https://localhost:8080/"
    },
    "executionInfo": {
     "elapsed": 3,
     "status": "ok",
     "timestamp": 1677046529108,
     "user": {
      "displayName": "Sun-Bin Kim",
      "userId": "12259624877743564730"
     },
     "user_tz": -540
    },
    "id": "lcSXu2TWoS_A",
    "outputId": "3c512681-fab0-4ff6-9435-1db3b358f506"
   },
   "outputs": [
    {
     "data": {
      "text/plain": [
       "100"
      ]
     },
     "execution_count": 14,
     "metadata": {},
     "output_type": "execute_result"
    }
   ],
   "source": [
    "w3=earn(w2,10)\n",
    "w3"
   ]
  },
  {
   "cell_type": "code",
   "execution_count": 15,
   "metadata": {
    "colab": {
     "base_uri": "https://localhost:8080/"
    },
    "executionInfo": {
     "elapsed": 4,
     "status": "ok",
     "timestamp": 1677046530375,
     "user": {
      "displayName": "Sun-Bin Kim",
      "userId": "12259624877743564730"
     },
     "user_tz": -540
    },
    "id": "MzJA7PvUoS_A",
    "outputId": "c65021ea-d26d-4dac-b416-28bbabcc44df"
   },
   "outputs": [
    {
     "data": {
      "text/plain": [
       "80"
      ]
     },
     "execution_count": 15,
     "metadata": {},
     "output_type": "execute_result"
    }
   ],
   "source": [
    "w4=spend(w3,20)\n",
    "w4"
   ]
  },
  {
   "cell_type": "markdown",
   "metadata": {
    "id": "W0eQj3fIoS_A"
   },
   "source": [
    "### OOP: Define a class\n",
    "\n",
    "A *Class* bundles a set of data tied to a particular *instance* together with a collection of methods that operate on the data. \n",
    "\n",
    "For this example,\n",
    "\n",
    "- an *instance*: the name of particular *person*\n",
    "- *data*: cash holdings $w$\n",
    "- *methods*: `earn` and `spend` perform the same tasks as above"
   ]
  },
  {
   "cell_type": "code",
   "execution_count": 16,
   "metadata": {
    "hide-output": false,
    "id": "rNb6ZbWNoS_A"
   },
   "outputs": [],
   "source": [
    "class Consumer:\n",
    "\n",
    "    def __init__(self, w):\n",
    "        \"Initialize consumer with w dollars of cash holdings\"\n",
    "        self.cash = w\n",
    "\n",
    "    def earn(self, y):\n",
    "        \"The consumer earns y dollars\"\n",
    "        self.cash += y\n",
    "\n",
    "    def spend(self, x):\n",
    "        \"The consumer spends x dollars if feasible\"\n",
    "        new_cash = self.cash - x\n",
    "        if new_cash < 0:\n",
    "            print(\"Insufficent funds\")\n",
    "        else:\n",
    "            self.cash = new_cash"
   ]
  },
  {
   "cell_type": "markdown",
   "metadata": {
    "id": "tJjgrjfmoS_A"
   },
   "source": [
    "There’s some special syntax here so let’s step through carefully\n",
    "\n",
    "- The `class` keyword indicates that we are building a class.  \n",
    "- The `Consumer` class defines instance data `cash` and three methods: `__init__`, `earn` and `spend`\n",
    "  - `cash` is *instance data* because each consumer we create (each instance of the `Consumer` class) will have its own cash data.  \n",
    "  - The `earn` and `spend` methods deploy the functions we described earlier and that can be applied to the `cash` instance data.\n",
    "  - The `__init__` method is a *constructor method*. \n",
    "    - Whenever we create an instance of the class, the `__init_` method will be called automatically.\n",
    "    - Calling `__init__` sets up a “namespace” to hold the instance data.\n",
    "- `self`: \n",
    "  The rules for using `self` in creating a class are as follows.\n",
    "  1. Any instance data should be prepended with `self`\n",
    "    - e.g., the `earn` method uses `self.cash` rather than just `cash`  \n",
    "  2. A method defined within the code that defines the class should have `self` as its first argument  \n",
    "    - e.g., `def earn(self, y)` rather than just `def earn(y)`\n",
    "  3. Any method referenced within the class should be called as  `self.method_name`"
   ]
  },
  {
   "cell_type": "markdown",
   "metadata": {
    "id": "JbJ1HYkToS_A"
   },
   "source": [
    "### Usage"
   ]
  },
  {
   "cell_type": "code",
   "execution_count": 17,
   "metadata": {
    "hide-output": false,
    "id": "zJEUHu2UoS_A",
    "outputId": "0c56e727-f1ac-4953-8275-d0eabc5099dc"
   },
   "outputs": [
    {
     "data": {
      "text/plain": [
       "5"
      ]
     },
     "execution_count": 17,
     "metadata": {},
     "output_type": "execute_result"
    }
   ],
   "source": [
    "SBKim = Consumer(10)  # Create instance with initial cash holdings 10\n",
    "SBKim.spend(5)\n",
    "SBKim.cash"
   ]
  },
  {
   "cell_type": "code",
   "execution_count": 18,
   "metadata": {
    "hide-output": false,
    "id": "1OrkNSBtoS_A",
    "outputId": "43721c0b-1d8f-46b7-e690-3d0b2ba690f0"
   },
   "outputs": [
    {
     "data": {
      "text/plain": [
       "10"
      ]
     },
     "execution_count": 18,
     "metadata": {},
     "output_type": "execute_result"
    }
   ],
   "source": [
    "SBKim.earn(15)\n",
    "SBKim.spend(10)\n",
    "SBKim.cash"
   ]
  },
  {
   "cell_type": "code",
   "execution_count": 19,
   "metadata": {
    "id": "7eFzpcKCoS_B",
    "outputId": "1072e0f2-6215-40de-a733-9ac8cee0c96e"
   },
   "outputs": [
    {
     "name": "stdout",
     "output_type": "stream",
     "text": [
      "Insufficent funds\n"
     ]
    }
   ],
   "source": [
    "SBKim.spend(100)"
   ]
  },
  {
   "cell_type": "code",
   "execution_count": 20,
   "metadata": {
    "id": "8vzg512BoS_B",
    "outputId": "83f665b8-a174-4dea-f7bc-e89be8eef19c"
   },
   "outputs": [
    {
     "data": {
      "text/plain": [
       "10"
      ]
     },
     "execution_count": 20,
     "metadata": {},
     "output_type": "execute_result"
    }
   ],
   "source": [
    "SBKim.cash"
   ]
  },
  {
   "cell_type": "code",
   "execution_count": 21,
   "metadata": {
    "hide-output": false,
    "id": "6ltedAO-oS_B",
    "outputId": "93726459-0d82-4c5d-89a0-35f50a2c2b2c"
   },
   "outputs": [
    {
     "data": {
      "text/plain": [
       "60"
      ]
     },
     "execution_count": 21,
     "metadata": {},
     "output_type": "execute_result"
    }
   ],
   "source": [
    "JCKim = Consumer(100)\n",
    "JCKim.spend(40)\n",
    "JCKim.cash"
   ]
  },
  {
   "cell_type": "markdown",
   "metadata": {
    "id": "Ti-D4vccoS_B"
   },
   "source": [
    "Each instance stores its data in a separate namespace dictionary. When we access or set attributes we’re actually just modifying the dictionary maintained by the instance."
   ]
  },
  {
   "cell_type": "code",
   "execution_count": 22,
   "metadata": {
    "id": "E18m-eYGoS_B",
    "outputId": "eb0453c5-1875-4612-b5bb-4445776639ba"
   },
   "outputs": [
    {
     "data": {
      "text/plain": [
       "{'cash': 10}"
      ]
     },
     "execution_count": 22,
     "metadata": {},
     "output_type": "execute_result"
    }
   ],
   "source": [
    "SBKim.__dict__"
   ]
  },
  {
   "cell_type": "code",
   "execution_count": 23,
   "metadata": {
    "hide-output": false,
    "id": "CzmxJU62oS_B",
    "outputId": "0b006619-ff7c-4388-b855-c2320c61797f"
   },
   "outputs": [
    {
     "data": {
      "text/plain": [
       "{'cash': 60}"
      ]
     },
     "execution_count": 23,
     "metadata": {},
     "output_type": "execute_result"
    }
   ],
   "source": [
    "JCKim.__dict__"
   ]
  },
  {
   "cell_type": "markdown",
   "metadata": {
    "id": "qAteJK4BoS_B"
   },
   "source": [
    "## Example 2: The Solow Growth Model\n",
    "\n",
    "The Solow growth model is a neoclassical growth model in which the per capita capital stock $ k_t $ evolves according to the rule, so called **Solow's fundamental equation**:\n",
    "\n",
    "$$\n",
    "k_{t+1} = \\frac{s z k_t^{\\alpha} + (1 - \\delta) k_t}{1 + n} \\tag{1},\n",
    "$$\n",
    "\n",
    "where\n",
    "- $ s $ is an exogenously given saving rate  \n",
    "- $ z $ is a productivity parameter  \n",
    "- $ \\alpha $ is capital’s share of income  \n",
    "- $ n $ is the population growth rate  \n",
    "- $ \\delta $ is the depreciation rate  \n",
    "\n",
    "A **steady state** of the model is a $ k^* $ that solves (1) with $ k_{t+1} = k_t = k^* = \\left(\\dfrac{sz}{n+\\delta}\\right)^{\\frac{1}{1-\\alpha}}$.\n",
    "\n",
    "Below is the `class` code to implement the above description of the Solow model."
   ]
  },
  {
   "cell_type": "code",
   "execution_count": 24,
   "metadata": {
    "executionInfo": {
     "elapsed": 338,
     "status": "ok",
     "timestamp": 1677047629546,
     "user": {
      "displayName": "Sun-Bin Kim",
      "userId": "12259624877743564730"
     },
     "user_tz": -540
    },
    "hide-output": false,
    "id": "KYz_lu7foS_B"
   },
   "outputs": [],
   "source": [
    "%matplotlib inline\n",
    "import numpy as np\n",
    "import matplotlib.pyplot as plt\n"
   ]
  },
  {
   "cell_type": "code",
   "execution_count": 25,
   "metadata": {
    "executionInfo": {
     "elapsed": 721,
     "status": "ok",
     "timestamp": 1677047865002,
     "user": {
      "displayName": "Sun-Bin Kim",
      "userId": "12259624877743564730"
     },
     "user_tz": -540
    },
    "hide-output": false,
    "id": "WtIumZ5PoS_B"
   },
   "outputs": [],
   "source": [
    "class Solow:\n",
    "    \"\"\"\n",
    "    Implements the Solow growth model with the update rule\n",
    "\n",
    "        k_{t+1} = [(s z k^α_t) + (1 - δ)k_t] /(1 + n)\n",
    "\n",
    "    \"\"\"\n",
    "    def __init__(self, n=0.05,  # population growth rate\n",
    "                       s=0.25,  # savings rate\n",
    "                       δ=0.1,   # depreciation rate\n",
    "                       α=0.3,   # share of labor\n",
    "                       z=2.0,   # productivity\n",
    "                       k0=1.0): # current capital stock\n",
    "\n",
    "        self.n, self.s, self.δ, self.α, self.z = n, s, δ, α, z\n",
    "        self.k = k0\n",
    "\n",
    "    def update(self):\n",
    "        \"Update the current state (i.e., the capital stock).\"\n",
    "        # Unpack parameters (get rid of self to simplify notation)\n",
    "        n, s, δ, α, z = self.n, self.s, self.δ, self.α, self.z\n",
    "        # Apply the update rule\n",
    "        self.k = (s * z * self.k**α + (1 - δ) * self.k) / (1 + n)\n",
    "\n",
    "    def steady_state(self):\n",
    "        \"Compute the steady state value of capital.\"\n",
    "        # Unpack parameters (get rid of self to simplify notation)\n",
    "        n, s, δ, α, z = self.n, self.s, self.δ, self.α, self.z\n",
    "        # Compute and return steady state\n",
    "        return ((s * z) / (n + δ))**(1 / (1 - α))\n",
    "\n",
    "    def generate_sequence(self, t):\n",
    "        \"Generate and return a time series of length t\"\n",
    "        path = []\n",
    "        for i in range(t):\n",
    "            path.append(self.k)\n",
    "            self.update()\n",
    "        return path"
   ]
  },
  {
   "cell_type": "markdown",
   "metadata": {
    "id": "tVxNWD734Jje"
   },
   "source": [
    "Let's create an economy with the inital capital $k_0=3$."
   ]
  },
  {
   "cell_type": "code",
   "execution_count": 26,
   "metadata": {
    "executionInfo": {
     "elapsed": 309,
     "status": "ok",
     "timestamp": 1677048518030,
     "user": {
      "displayName": "Sun-Bin Kim",
      "userId": "12259624877743564730"
     },
     "user_tz": -540
    },
    "id": "5jEzPNQc39_D"
   },
   "outputs": [],
   "source": [
    "s1 = Solow(k0=3.0)"
   ]
  },
  {
   "cell_type": "code",
   "execution_count": 27,
   "metadata": {
    "colab": {
     "base_uri": "https://localhost:8080/"
    },
    "executionInfo": {
     "elapsed": 5,
     "status": "ok",
     "timestamp": 1677048520221,
     "user": {
      "displayName": "Sun-Bin Kim",
      "userId": "12259624877743564730"
     },
     "user_tz": -540
    },
    "id": "po8he0Bm4XR2",
    "outputId": "1674ca13-1fed-447c-83dd-f126a37a06a3"
   },
   "outputs": [
    {
     "data": {
      "text/plain": [
       "3.2335186525313855"
      ]
     },
     "execution_count": 27,
     "metadata": {},
     "output_type": "execute_result"
    }
   ],
   "source": [
    "s1.update()\n",
    "s1.k"
   ]
  },
  {
   "cell_type": "code",
   "execution_count": 28,
   "metadata": {
    "colab": {
     "base_uri": "https://localhost:8080/"
    },
    "executionInfo": {
     "elapsed": 5,
     "status": "ok",
     "timestamp": 1677048526942,
     "user": {
      "displayName": "Sun-Bin Kim",
      "userId": "12259624877743564730"
     },
     "user_tz": -540
    },
    "id": "3mA5ZnSE2fX7",
    "outputId": "b9e5c3e2-a95c-463a-c93f-c6fc14c06695"
   },
   "outputs": [
    {
     "data": {
      "text/plain": [
       "5.5843115041821845"
      ]
     },
     "execution_count": 28,
     "metadata": {},
     "output_type": "execute_result"
    }
   ],
   "source": [
    "s1.steady_state()"
   ]
  },
  {
   "cell_type": "markdown",
   "metadata": {
    "id": "W92eSVjt4gzS"
   },
   "source": [
    "Let's compute the transitioin path of capital for this economy over 60 periods."
   ]
  },
  {
   "cell_type": "code",
   "execution_count": 29,
   "metadata": {
    "colab": {
     "base_uri": "https://localhost:8080/",
     "height": 392
    },
    "executionInfo": {
     "elapsed": 9,
     "status": "ok",
     "timestamp": 1677048608903,
     "user": {
      "displayName": "Sun-Bin Kim",
      "userId": "12259624877743564730"
     },
     "user_tz": -540
    },
    "id": "MTBf9d4H1-zk",
    "outputId": "0060e785-43f5-4aa2-9af4-29425b87db4d"
   },
   "outputs": [
    {
     "data": {
      "image/png": "[encoded data removed]",
      "text/plain": [
       "<Figure size 900x600 with 1 Axes>"
      ]
     },
     "metadata": {},
     "output_type": "display_data"
    }
   ],
   "source": [
    "T = 60\n",
    "\n",
    "plt.figure(figsize=(9, 6))\n",
    "# Plot time series for each economy\n",
    "plt.plot(s1.generate_sequence(T), 'o-b', lw=2)\n",
    "plt.xlabel('$t$', fontsize=14)\n",
    "plt.ylabel('$k_t$', fontsize=14)\n",
    "plt.show()\n"
   ]
  },
  {
   "cell_type": "markdown",
   "metadata": {
    "id": "Kfe2fm9noS_C"
   },
   "source": [
    "Let's consider another economy (s2) which is identical in all aspects except for the initial capital stock ($k_0=8$). \n",
    "\n",
    "These two economies share the common steady state. Below we compute and display the transitional paths of the capital stock of the two economies."
   ]
  },
  {
   "cell_type": "code",
   "execution_count": 30,
   "metadata": {
    "colab": {
     "base_uri": "https://localhost:8080/",
     "height": 392
    },
    "executionInfo": {
     "elapsed": 623,
     "status": "ok",
     "timestamp": 1677048760723,
     "user": {
      "displayName": "Sun-Bin Kim",
      "userId": "12259624877743564730"
     },
     "user_tz": -540
    },
    "hide-output": false,
    "id": "82uIT1cnoS_C",
    "outputId": "07b9c1c9-3029-4646-b7ca-1847724b942c"
   },
   "outputs": [
    {
     "data": {
      "image/png": "[encoded data removed]",
      "text/plain": [
       "<Figure size 900x600 with 1 Axes>"
      ]
     },
     "metadata": {},
     "output_type": "display_data"
    }
   ],
   "source": [
    "s1 = Solow(k0=3.0)\n",
    "s2 = Solow(k0=8.0)\n",
    "\n",
    "T = 60\n",
    "plt.figure(figsize=(9, 6))\n",
    "# Plot the common steady state value of capital\n",
    "plt.plot([s1.steady_state()]*T, 'r--', label='common steady state')\n",
    "# Plot time series for each economy\n",
    "plt.plot(s1.generate_sequence(T), 'o-b', lw=2, label='Economy with low $k_0$')\n",
    "plt.plot(s2.generate_sequence(T), 'o-g', lw=2, label='Economy with high $k_0$')\n",
    "\n",
    "plt.xlabel('$t$', fontsize=14)\n",
    "plt.ylabel('$k_t$', fontsize=14)\n",
    "plt.legend()\n",
    "plt.show()"
   ]
  },
  {
   "cell_type": "code",
   "execution_count": null,
   "metadata": {
    "executionInfo": {
     "elapsed": 3,
     "status": "ok",
     "timestamp": 1677047648603,
     "user": {
      "displayName": "Sun-Bin Kim",
      "userId": "12259624877743564730"
     },
     "user_tz": -540
    },
    "id": "iCP12hDGoS_C"
   },
   "outputs": [],
   "source": []
  }
 ],
 "metadata": {
  "colab": {
   "provenance": []
  },
  "date": 1607304353.5584023,
  "filename": "oop_intro.md",
  "kernelspec": {
   "display_name": "base",
   "language": "python",
   "name": "python3"
  },
  "language_info": {
   "codemirror_mode": {
    "name": "ipython",
    "version": 3
   },
   "file_extension": ".py",
   "mimetype": "text/x-python",
   "name": "python",
   "nbconvert_exporter": "python",
   "pygments_lexer": "ipython3",
   "version": "3.9.13"
  },
  "title": "OOP I: Introduction to Object Oriented Programming",
  "vscode": {
   "interpreter": {
    "hash": "39af2ca0895277c44512c921bb7f88f8dc25be0442cca964837d7637ba0b2326"
   }
  }
 },
 "nbformat": 4,
 "nbformat_minor": 0
}
